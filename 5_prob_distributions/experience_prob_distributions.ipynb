{
 "cells": [
  {
   "cell_type": "code",
   "execution_count": 72,
   "id": "de0b52d1",
   "metadata": {
    "pycharm": {
     "name": "#%%\n"
    }
   },
   "outputs": [],
   "source": [
    "library(tidyverse)"
   ]
  },
  {
   "cell_type": "markdown",
   "id": "526a84d8",
   "metadata": {
    "pycharm": {
     "name": "#%% md\n"
    }
   },
   "source": [
    "### Q0\n",
    "\n",
    "* Draw a concepts diagram that uses all the following terminology covered in this module\n",
    "\n",
    "* Probability mass function, outcome, expriment, sample space, Gaussian, probanility mass funciton, probability distribution, binomial, maximum likelihood, parameters, mean and variance, lambda, sample, p-value"
   ]
  },
  {
   "cell_type": "code",
   "execution_count": 1,
   "id": "ef2e6b4d",
   "metadata": {
    "pycharm": {
     "name": "#%%\n"
    }
   },
   "outputs": [],
   "source": [
    "### Write your code here"
   ]
  },
  {
   "cell_type": "markdown",
   "id": "b4207bca",
   "metadata": {
    "pycharm": {
     "name": "#%% md\n"
    }
   },
   "source": [
    "###  Q1\n",
    "Write a function that returns the sample space for the experiment consisting of sampling a 4 digit PIN\n",
    "  * Call your function get_all_perms\n",
    "\n",
    "  * Essentially, your function does not take any arguments but returns the sample space consisting of all the four digit numbers\n",
    "   \n",
    "  * The function `expand.grid` expand.grid creates a data frame from all combinations of the supplied vectors or factors. For example:\n",
    " \n",
    "  ```expand.grid(0:1, 0:1, 0:1)```\n",
    "\n",
    "* generates  \n",
    "\n",
    "![](https://www.dropbox.com/s/cnlt4fg8rxd01d6/expand.grid.png?dl=1)\n",
    " \n",
    "\n",
    "* Strategy, use `expand.grid` to generate the permutation for four verctation in the range 0:9\n",
    "  * Return the number of rows in that `data.frame`\n",
    "\n",
    "  "
   ]
  },
  {
   "cell_type": "code",
   "execution_count": 73,
   "id": "e559210c",
   "metadata": {
    "pycharm": {
     "name": "#%%\n"
    }
   },
   "outputs": [
    {
     "data": {
      "text/html": [
       "10000"
      ],
      "text/latex": [
       "10000"
      ],
      "text/markdown": [
       "10000"
      ],
      "text/plain": [
       "[1] 10000"
      ]
     },
     "metadata": {},
     "output_type": "display_data"
    }
   ],
   "source": [
    "get_all_perms<-expand.grid(0:9,0:9,0:9,0:9)\n",
    "nrow(get_all_perms)"
   ]
  },
  {
   "cell_type": "markdown",
   "id": "7b5f5dec",
   "metadata": {
    "pycharm": {
     "name": "#%% md\n"
    }
   },
   "source": [
    "###  Q2\n",
    "\n",
    "The function above is not very useful since it always computes the same thing, namely the number of possible permutation of digits. One way to make it more useful is by passing as an argument the number of digits to consider, i.e., the number of columns in `expand.grid`. Let's call that param `size`, which by default should be `4`. For example:\n",
    "\n",
    "*  `get_all_perms(size = 1 )` will return all the number of size 1 (0-9)\n",
    "*  `get_all_perms(size = 3 )` will return all the permutations of size 3 (000 - to 999)\n",
    "\n",
    "\n",
    "* Hint: `expand.grid` requires the number of input parameters to match the permutation length. We need to automate that so that the number of vectors passed as input matches the `size` values passed into `get_all_perms`\n",
    "  * We can do that using `replicate`\n",
    "  * `replicate(2, c(1,2,3), simplify=FALSE)` will repeat the vector `c(1,2,3)` twice\n",
    "    * We need to pass `replicate` the value `simplify=FALSE` so that it does not convert the output for us into a matrix\n",
    "  * Use pipe (`%>%`) pass the output of `replicate` into expand.grid\n",
    "  * Make sure replicated generate the correct input for exand.grid\n",
    "  "
   ]
  },
  {
   "cell_type": "code",
   "execution_count": 74,
   "id": "a45bbd1d",
   "metadata": {
    "pycharm": {
     "name": "#%%\n"
    }
   },
   "outputs": [
    {
     "data": {
      "text/html": [
       "<table class=\"dataframe\">\n",
       "<caption>A data.frame: 20000 × 5</caption>\n",
       "<thead>\n",
       "\t<tr><th scope=col>Var1</th><th scope=col>Var2</th><th scope=col>Var3</th><th scope=col>Var4</th><th scope=col>Var5</th></tr>\n",
       "\t<tr><th scope=col>&lt;list&gt;</th><th scope=col>&lt;int&gt;</th><th scope=col>&lt;int&gt;</th><th scope=col>&lt;int&gt;</th><th scope=col>&lt;int&gt;</th></tr>\n",
       "</thead>\n",
       "<tbody>\n",
       "\t<tr><td>1, 2, 3</td><td>0</td><td>0</td><td>0</td><td>0</td></tr>\n",
       "\t<tr><td>1, 2, 3</td><td>0</td><td>0</td><td>0</td><td>0</td></tr>\n",
       "\t<tr><td>1, 2, 3</td><td>1</td><td>0</td><td>0</td><td>0</td></tr>\n",
       "\t<tr><td>1, 2, 3</td><td>1</td><td>0</td><td>0</td><td>0</td></tr>\n",
       "\t<tr><td>1, 2, 3</td><td>2</td><td>0</td><td>0</td><td>0</td></tr>\n",
       "\t<tr><td>1, 2, 3</td><td>2</td><td>0</td><td>0</td><td>0</td></tr>\n",
       "\t<tr><td>1, 2, 3</td><td>3</td><td>0</td><td>0</td><td>0</td></tr>\n",
       "\t<tr><td>1, 2, 3</td><td>3</td><td>0</td><td>0</td><td>0</td></tr>\n",
       "\t<tr><td>1, 2, 3</td><td>4</td><td>0</td><td>0</td><td>0</td></tr>\n",
       "\t<tr><td>1, 2, 3</td><td>4</td><td>0</td><td>0</td><td>0</td></tr>\n",
       "\t<tr><td>1, 2, 3</td><td>5</td><td>0</td><td>0</td><td>0</td></tr>\n",
       "\t<tr><td>1, 2, 3</td><td>5</td><td>0</td><td>0</td><td>0</td></tr>\n",
       "\t<tr><td>1, 2, 3</td><td>6</td><td>0</td><td>0</td><td>0</td></tr>\n",
       "\t<tr><td>1, 2, 3</td><td>6</td><td>0</td><td>0</td><td>0</td></tr>\n",
       "\t<tr><td>1, 2, 3</td><td>7</td><td>0</td><td>0</td><td>0</td></tr>\n",
       "\t<tr><td>1, 2, 3</td><td>7</td><td>0</td><td>0</td><td>0</td></tr>\n",
       "\t<tr><td>1, 2, 3</td><td>8</td><td>0</td><td>0</td><td>0</td></tr>\n",
       "\t<tr><td>1, 2, 3</td><td>8</td><td>0</td><td>0</td><td>0</td></tr>\n",
       "\t<tr><td>1, 2, 3</td><td>9</td><td>0</td><td>0</td><td>0</td></tr>\n",
       "\t<tr><td>1, 2, 3</td><td>9</td><td>0</td><td>0</td><td>0</td></tr>\n",
       "\t<tr><td>1, 2, 3</td><td>0</td><td>1</td><td>0</td><td>0</td></tr>\n",
       "\t<tr><td>1, 2, 3</td><td>0</td><td>1</td><td>0</td><td>0</td></tr>\n",
       "\t<tr><td>1, 2, 3</td><td>1</td><td>1</td><td>0</td><td>0</td></tr>\n",
       "\t<tr><td>1, 2, 3</td><td>1</td><td>1</td><td>0</td><td>0</td></tr>\n",
       "\t<tr><td>1, 2, 3</td><td>2</td><td>1</td><td>0</td><td>0</td></tr>\n",
       "\t<tr><td>1, 2, 3</td><td>2</td><td>1</td><td>0</td><td>0</td></tr>\n",
       "\t<tr><td>1, 2, 3</td><td>3</td><td>1</td><td>0</td><td>0</td></tr>\n",
       "\t<tr><td>1, 2, 3</td><td>3</td><td>1</td><td>0</td><td>0</td></tr>\n",
       "\t<tr><td>1, 2, 3</td><td>4</td><td>1</td><td>0</td><td>0</td></tr>\n",
       "\t<tr><td>1, 2, 3</td><td>4</td><td>1</td><td>0</td><td>0</td></tr>\n",
       "\t<tr><td>...</td><td>...</td><td>...</td><td>...</td><td>...</td></tr>\n",
       "\t<tr><td>1, 2, 3</td><td>5</td><td>8</td><td>9</td><td>9</td></tr>\n",
       "\t<tr><td>1, 2, 3</td><td>5</td><td>8</td><td>9</td><td>9</td></tr>\n",
       "\t<tr><td>1, 2, 3</td><td>6</td><td>8</td><td>9</td><td>9</td></tr>\n",
       "\t<tr><td>1, 2, 3</td><td>6</td><td>8</td><td>9</td><td>9</td></tr>\n",
       "\t<tr><td>1, 2, 3</td><td>7</td><td>8</td><td>9</td><td>9</td></tr>\n",
       "\t<tr><td>1, 2, 3</td><td>7</td><td>8</td><td>9</td><td>9</td></tr>\n",
       "\t<tr><td>1, 2, 3</td><td>8</td><td>8</td><td>9</td><td>9</td></tr>\n",
       "\t<tr><td>1, 2, 3</td><td>8</td><td>8</td><td>9</td><td>9</td></tr>\n",
       "\t<tr><td>1, 2, 3</td><td>9</td><td>8</td><td>9</td><td>9</td></tr>\n",
       "\t<tr><td>1, 2, 3</td><td>9</td><td>8</td><td>9</td><td>9</td></tr>\n",
       "\t<tr><td>1, 2, 3</td><td>0</td><td>9</td><td>9</td><td>9</td></tr>\n",
       "\t<tr><td>1, 2, 3</td><td>0</td><td>9</td><td>9</td><td>9</td></tr>\n",
       "\t<tr><td>1, 2, 3</td><td>1</td><td>9</td><td>9</td><td>9</td></tr>\n",
       "\t<tr><td>1, 2, 3</td><td>1</td><td>9</td><td>9</td><td>9</td></tr>\n",
       "\t<tr><td>1, 2, 3</td><td>2</td><td>9</td><td>9</td><td>9</td></tr>\n",
       "\t<tr><td>1, 2, 3</td><td>2</td><td>9</td><td>9</td><td>9</td></tr>\n",
       "\t<tr><td>1, 2, 3</td><td>3</td><td>9</td><td>9</td><td>9</td></tr>\n",
       "\t<tr><td>1, 2, 3</td><td>3</td><td>9</td><td>9</td><td>9</td></tr>\n",
       "\t<tr><td>1, 2, 3</td><td>4</td><td>9</td><td>9</td><td>9</td></tr>\n",
       "\t<tr><td>1, 2, 3</td><td>4</td><td>9</td><td>9</td><td>9</td></tr>\n",
       "\t<tr><td>1, 2, 3</td><td>5</td><td>9</td><td>9</td><td>9</td></tr>\n",
       "\t<tr><td>1, 2, 3</td><td>5</td><td>9</td><td>9</td><td>9</td></tr>\n",
       "\t<tr><td>1, 2, 3</td><td>6</td><td>9</td><td>9</td><td>9</td></tr>\n",
       "\t<tr><td>1, 2, 3</td><td>6</td><td>9</td><td>9</td><td>9</td></tr>\n",
       "\t<tr><td>1, 2, 3</td><td>7</td><td>9</td><td>9</td><td>9</td></tr>\n",
       "\t<tr><td>1, 2, 3</td><td>7</td><td>9</td><td>9</td><td>9</td></tr>\n",
       "\t<tr><td>1, 2, 3</td><td>8</td><td>9</td><td>9</td><td>9</td></tr>\n",
       "\t<tr><td>1, 2, 3</td><td>8</td><td>9</td><td>9</td><td>9</td></tr>\n",
       "\t<tr><td>1, 2, 3</td><td>9</td><td>9</td><td>9</td><td>9</td></tr>\n",
       "\t<tr><td>1, 2, 3</td><td>9</td><td>9</td><td>9</td><td>9</td></tr>\n",
       "</tbody>\n",
       "</table>\n"
      ],
      "text/latex": [
       "A data.frame: 20000 × 5\n",
       "\\begin{tabular}{lllll}\n",
       " Var1 & Var2 & Var3 & Var4 & Var5\\\\\n",
       " <list> & <int> & <int> & <int> & <int>\\\\\n",
       "\\hline\n",
       "\t 1, 2, 3 & 0 & 0 & 0 & 0\\\\\n",
       "\t 1, 2, 3 & 0 & 0 & 0 & 0\\\\\n",
       "\t 1, 2, 3 & 1 & 0 & 0 & 0\\\\\n",
       "\t 1, 2, 3 & 1 & 0 & 0 & 0\\\\\n",
       "\t 1, 2, 3 & 2 & 0 & 0 & 0\\\\\n",
       "\t 1, 2, 3 & 2 & 0 & 0 & 0\\\\\n",
       "\t 1, 2, 3 & 3 & 0 & 0 & 0\\\\\n",
       "\t 1, 2, 3 & 3 & 0 & 0 & 0\\\\\n",
       "\t 1, 2, 3 & 4 & 0 & 0 & 0\\\\\n",
       "\t 1, 2, 3 & 4 & 0 & 0 & 0\\\\\n",
       "\t 1, 2, 3 & 5 & 0 & 0 & 0\\\\\n",
       "\t 1, 2, 3 & 5 & 0 & 0 & 0\\\\\n",
       "\t 1, 2, 3 & 6 & 0 & 0 & 0\\\\\n",
       "\t 1, 2, 3 & 6 & 0 & 0 & 0\\\\\n",
       "\t 1, 2, 3 & 7 & 0 & 0 & 0\\\\\n",
       "\t 1, 2, 3 & 7 & 0 & 0 & 0\\\\\n",
       "\t 1, 2, 3 & 8 & 0 & 0 & 0\\\\\n",
       "\t 1, 2, 3 & 8 & 0 & 0 & 0\\\\\n",
       "\t 1, 2, 3 & 9 & 0 & 0 & 0\\\\\n",
       "\t 1, 2, 3 & 9 & 0 & 0 & 0\\\\\n",
       "\t 1, 2, 3 & 0 & 1 & 0 & 0\\\\\n",
       "\t 1, 2, 3 & 0 & 1 & 0 & 0\\\\\n",
       "\t 1, 2, 3 & 1 & 1 & 0 & 0\\\\\n",
       "\t 1, 2, 3 & 1 & 1 & 0 & 0\\\\\n",
       "\t 1, 2, 3 & 2 & 1 & 0 & 0\\\\\n",
       "\t 1, 2, 3 & 2 & 1 & 0 & 0\\\\\n",
       "\t 1, 2, 3 & 3 & 1 & 0 & 0\\\\\n",
       "\t 1, 2, 3 & 3 & 1 & 0 & 0\\\\\n",
       "\t 1, 2, 3 & 4 & 1 & 0 & 0\\\\\n",
       "\t 1, 2, 3 & 4 & 1 & 0 & 0\\\\\n",
       "\t ... & ... & ... & ... & ...\\\\\n",
       "\t 1, 2, 3 & 5 & 8 & 9 & 9\\\\\n",
       "\t 1, 2, 3 & 5 & 8 & 9 & 9\\\\\n",
       "\t 1, 2, 3 & 6 & 8 & 9 & 9\\\\\n",
       "\t 1, 2, 3 & 6 & 8 & 9 & 9\\\\\n",
       "\t 1, 2, 3 & 7 & 8 & 9 & 9\\\\\n",
       "\t 1, 2, 3 & 7 & 8 & 9 & 9\\\\\n",
       "\t 1, 2, 3 & 8 & 8 & 9 & 9\\\\\n",
       "\t 1, 2, 3 & 8 & 8 & 9 & 9\\\\\n",
       "\t 1, 2, 3 & 9 & 8 & 9 & 9\\\\\n",
       "\t 1, 2, 3 & 9 & 8 & 9 & 9\\\\\n",
       "\t 1, 2, 3 & 0 & 9 & 9 & 9\\\\\n",
       "\t 1, 2, 3 & 0 & 9 & 9 & 9\\\\\n",
       "\t 1, 2, 3 & 1 & 9 & 9 & 9\\\\\n",
       "\t 1, 2, 3 & 1 & 9 & 9 & 9\\\\\n",
       "\t 1, 2, 3 & 2 & 9 & 9 & 9\\\\\n",
       "\t 1, 2, 3 & 2 & 9 & 9 & 9\\\\\n",
       "\t 1, 2, 3 & 3 & 9 & 9 & 9\\\\\n",
       "\t 1, 2, 3 & 3 & 9 & 9 & 9\\\\\n",
       "\t 1, 2, 3 & 4 & 9 & 9 & 9\\\\\n",
       "\t 1, 2, 3 & 4 & 9 & 9 & 9\\\\\n",
       "\t 1, 2, 3 & 5 & 9 & 9 & 9\\\\\n",
       "\t 1, 2, 3 & 5 & 9 & 9 & 9\\\\\n",
       "\t 1, 2, 3 & 6 & 9 & 9 & 9\\\\\n",
       "\t 1, 2, 3 & 6 & 9 & 9 & 9\\\\\n",
       "\t 1, 2, 3 & 7 & 9 & 9 & 9\\\\\n",
       "\t 1, 2, 3 & 7 & 9 & 9 & 9\\\\\n",
       "\t 1, 2, 3 & 8 & 9 & 9 & 9\\\\\n",
       "\t 1, 2, 3 & 8 & 9 & 9 & 9\\\\\n",
       "\t 1, 2, 3 & 9 & 9 & 9 & 9\\\\\n",
       "\t 1, 2, 3 & 9 & 9 & 9 & 9\\\\\n",
       "\\end{tabular}\n"
      ],
      "text/markdown": [
       "\n",
       "A data.frame: 20000 × 5\n",
       "\n",
       "| Var1 &lt;list&gt; | Var2 &lt;int&gt; | Var3 &lt;int&gt; | Var4 &lt;int&gt; | Var5 &lt;int&gt; |\n",
       "|---|---|---|---|---|\n",
       "| 1, 2, 3 | 0 | 0 | 0 | 0 |\n",
       "| 1, 2, 3 | 0 | 0 | 0 | 0 |\n",
       "| 1, 2, 3 | 1 | 0 | 0 | 0 |\n",
       "| 1, 2, 3 | 1 | 0 | 0 | 0 |\n",
       "| 1, 2, 3 | 2 | 0 | 0 | 0 |\n",
       "| 1, 2, 3 | 2 | 0 | 0 | 0 |\n",
       "| 1, 2, 3 | 3 | 0 | 0 | 0 |\n",
       "| 1, 2, 3 | 3 | 0 | 0 | 0 |\n",
       "| 1, 2, 3 | 4 | 0 | 0 | 0 |\n",
       "| 1, 2, 3 | 4 | 0 | 0 | 0 |\n",
       "| 1, 2, 3 | 5 | 0 | 0 | 0 |\n",
       "| 1, 2, 3 | 5 | 0 | 0 | 0 |\n",
       "| 1, 2, 3 | 6 | 0 | 0 | 0 |\n",
       "| 1, 2, 3 | 6 | 0 | 0 | 0 |\n",
       "| 1, 2, 3 | 7 | 0 | 0 | 0 |\n",
       "| 1, 2, 3 | 7 | 0 | 0 | 0 |\n",
       "| 1, 2, 3 | 8 | 0 | 0 | 0 |\n",
       "| 1, 2, 3 | 8 | 0 | 0 | 0 |\n",
       "| 1, 2, 3 | 9 | 0 | 0 | 0 |\n",
       "| 1, 2, 3 | 9 | 0 | 0 | 0 |\n",
       "| 1, 2, 3 | 0 | 1 | 0 | 0 |\n",
       "| 1, 2, 3 | 0 | 1 | 0 | 0 |\n",
       "| 1, 2, 3 | 1 | 1 | 0 | 0 |\n",
       "| 1, 2, 3 | 1 | 1 | 0 | 0 |\n",
       "| 1, 2, 3 | 2 | 1 | 0 | 0 |\n",
       "| 1, 2, 3 | 2 | 1 | 0 | 0 |\n",
       "| 1, 2, 3 | 3 | 1 | 0 | 0 |\n",
       "| 1, 2, 3 | 3 | 1 | 0 | 0 |\n",
       "| 1, 2, 3 | 4 | 1 | 0 | 0 |\n",
       "| 1, 2, 3 | 4 | 1 | 0 | 0 |\n",
       "| ... | ... | ... | ... | ... |\n",
       "| 1, 2, 3 | 5 | 8 | 9 | 9 |\n",
       "| 1, 2, 3 | 5 | 8 | 9 | 9 |\n",
       "| 1, 2, 3 | 6 | 8 | 9 | 9 |\n",
       "| 1, 2, 3 | 6 | 8 | 9 | 9 |\n",
       "| 1, 2, 3 | 7 | 8 | 9 | 9 |\n",
       "| 1, 2, 3 | 7 | 8 | 9 | 9 |\n",
       "| 1, 2, 3 | 8 | 8 | 9 | 9 |\n",
       "| 1, 2, 3 | 8 | 8 | 9 | 9 |\n",
       "| 1, 2, 3 | 9 | 8 | 9 | 9 |\n",
       "| 1, 2, 3 | 9 | 8 | 9 | 9 |\n",
       "| 1, 2, 3 | 0 | 9 | 9 | 9 |\n",
       "| 1, 2, 3 | 0 | 9 | 9 | 9 |\n",
       "| 1, 2, 3 | 1 | 9 | 9 | 9 |\n",
       "| 1, 2, 3 | 1 | 9 | 9 | 9 |\n",
       "| 1, 2, 3 | 2 | 9 | 9 | 9 |\n",
       "| 1, 2, 3 | 2 | 9 | 9 | 9 |\n",
       "| 1, 2, 3 | 3 | 9 | 9 | 9 |\n",
       "| 1, 2, 3 | 3 | 9 | 9 | 9 |\n",
       "| 1, 2, 3 | 4 | 9 | 9 | 9 |\n",
       "| 1, 2, 3 | 4 | 9 | 9 | 9 |\n",
       "| 1, 2, 3 | 5 | 9 | 9 | 9 |\n",
       "| 1, 2, 3 | 5 | 9 | 9 | 9 |\n",
       "| 1, 2, 3 | 6 | 9 | 9 | 9 |\n",
       "| 1, 2, 3 | 6 | 9 | 9 | 9 |\n",
       "| 1, 2, 3 | 7 | 9 | 9 | 9 |\n",
       "| 1, 2, 3 | 7 | 9 | 9 | 9 |\n",
       "| 1, 2, 3 | 8 | 9 | 9 | 9 |\n",
       "| 1, 2, 3 | 8 | 9 | 9 | 9 |\n",
       "| 1, 2, 3 | 9 | 9 | 9 | 9 |\n",
       "| 1, 2, 3 | 9 | 9 | 9 | 9 |\n",
       "\n"
      ],
      "text/plain": [
       "      Var1    Var2 Var3 Var4 Var5\n",
       "1     1, 2, 3 0    0    0    0   \n",
       "2     1, 2, 3 0    0    0    0   \n",
       "3     1, 2, 3 1    0    0    0   \n",
       "4     1, 2, 3 1    0    0    0   \n",
       "5     1, 2, 3 2    0    0    0   \n",
       "6     1, 2, 3 2    0    0    0   \n",
       "7     1, 2, 3 3    0    0    0   \n",
       "8     1, 2, 3 3    0    0    0   \n",
       "9     1, 2, 3 4    0    0    0   \n",
       "10    1, 2, 3 4    0    0    0   \n",
       "11    1, 2, 3 5    0    0    0   \n",
       "12    1, 2, 3 5    0    0    0   \n",
       "13    1, 2, 3 6    0    0    0   \n",
       "14    1, 2, 3 6    0    0    0   \n",
       "15    1, 2, 3 7    0    0    0   \n",
       "16    1, 2, 3 7    0    0    0   \n",
       "17    1, 2, 3 8    0    0    0   \n",
       "18    1, 2, 3 8    0    0    0   \n",
       "19    1, 2, 3 9    0    0    0   \n",
       "20    1, 2, 3 9    0    0    0   \n",
       "21    1, 2, 3 0    1    0    0   \n",
       "22    1, 2, 3 0    1    0    0   \n",
       "23    1, 2, 3 1    1    0    0   \n",
       "24    1, 2, 3 1    1    0    0   \n",
       "25    1, 2, 3 2    1    0    0   \n",
       "26    1, 2, 3 2    1    0    0   \n",
       "27    1, 2, 3 3    1    0    0   \n",
       "28    1, 2, 3 3    1    0    0   \n",
       "29    1, 2, 3 4    1    0    0   \n",
       "30    1, 2, 3 4    1    0    0   \n",
       "...   ...     ...  ...  ...  ... \n",
       "19971 1, 2, 3 5    8    9    9   \n",
       "19972 1, 2, 3 5    8    9    9   \n",
       "19973 1, 2, 3 6    8    9    9   \n",
       "19974 1, 2, 3 6    8    9    9   \n",
       "19975 1, 2, 3 7    8    9    9   \n",
       "19976 1, 2, 3 7    8    9    9   \n",
       "19977 1, 2, 3 8    8    9    9   \n",
       "19978 1, 2, 3 8    8    9    9   \n",
       "19979 1, 2, 3 9    8    9    9   \n",
       "19980 1, 2, 3 9    8    9    9   \n",
       "19981 1, 2, 3 0    9    9    9   \n",
       "19982 1, 2, 3 0    9    9    9   \n",
       "19983 1, 2, 3 1    9    9    9   \n",
       "19984 1, 2, 3 1    9    9    9   \n",
       "19985 1, 2, 3 2    9    9    9   \n",
       "19986 1, 2, 3 2    9    9    9   \n",
       "19987 1, 2, 3 3    9    9    9   \n",
       "19988 1, 2, 3 3    9    9    9   \n",
       "19989 1, 2, 3 4    9    9    9   \n",
       "19990 1, 2, 3 4    9    9    9   \n",
       "19991 1, 2, 3 5    9    9    9   \n",
       "19992 1, 2, 3 5    9    9    9   \n",
       "19993 1, 2, 3 6    9    9    9   \n",
       "19994 1, 2, 3 6    9    9    9   \n",
       "19995 1, 2, 3 7    9    9    9   \n",
       "19996 1, 2, 3 7    9    9    9   \n",
       "19997 1, 2, 3 8    9    9    9   \n",
       "19998 1, 2, 3 8    9    9    9   \n",
       "19999 1, 2, 3 9    9    9    9   \n",
       "20000 1, 2, 3 9    9    9    9   "
      ]
     },
     "metadata": {},
     "output_type": "display_data"
    }
   ],
   "source": [
    "replicate(2, c(1,2,3), simplify=FALSE) %>% expand.grid(0:9,0:9,0:9,0:9)"
   ]
  },
  {
   "cell_type": "markdown",
   "id": "d826dbff",
   "metadata": {
    "pycharm": {
     "name": "#%% md\n"
    }
   },
   "source": [
    "###  Q3\n",
    "\n",
    "* Given a fish disease that occurs with a probability of p= 0.43\n",
    "* You sampled 340 animals\n",
    "* How many of these animals should you expect to see the disease in?\n",
    "* Hint: you will need to compute the probability of each element of the sample space and find the value that has the highest probability"
   ]
  },
  {
   "cell_type": "code",
   "execution_count": 75,
   "id": "8ec880ab",
   "metadata": {
    "pycharm": {
     "name": "#%%\n"
    }
   },
   "outputs": [
    {
     "data": {
      "text/html": [
       "139"
      ],
      "text/latex": [
       "139"
      ],
      "text/markdown": [
       "139"
      ],
      "text/plain": [
       "[1] 139"
      ]
     },
     "metadata": {},
     "output_type": "display_data"
    }
   ],
   "source": [
    "# 1: is diseased, 0: healthy\n",
    "fish_disease<-sample(c(0, 1), size = 340, replace=TRUE, prob=c(0.57, 0.43))\n",
    "sum(fish_disease)"
   ]
  },
  {
   "cell_type": "markdown",
   "id": "2e17347b",
   "metadata": {
    "pycharm": {
     "name": "#%% md\n"
    }
   },
   "source": [
    "### Q4\n",
    "Plot the two following distributions:\n",
    "\n",
    "$$\n",
    "x \\sim \\mathcal{N}(10, 0.5) \\\\\n",
    "y \\sim \\mathcal{N}(10.2, 0.5) \\\\\n",
    "$$\n",
    "\n",
    "* Your plot should look like the following\n",
    "![](https://www.dropbox.com/s/psrjtl6abjla7z5/sample_gaussian_plot.png?dl=1)\n",
    "\n",
    "\n",
    "* Draw 40 values from the first distribution and store them in a variable called `x_sample`\n",
    "* Draw 40 values from the second distribution and store them in a variable called `y_sample`\n",
    "  * make sure you run the following line before you sample data\n",
    "  ```set.seed(42)```\n",
    " \n",
    "* Do a `t-`test to compute the `x_sample` and `y_sample`\n",
    "  * A `t-`test compares two vectors of values and predicts if the two vectors are from the same distribution\n",
    "  * The format for the t-test in R is\n",
    " \n",
    " `t.test(x,y)` where `x` an `y` are the vectors of values we would like to compare.\n",
    "  * Look at the `p-value`, if it's smaller than say 0.05, then there is a statistically significant difference between the two datasets.\n",
    "\n",
    "* Do you agree with the conclusion of the `t-test`. In other words, would you be comfortable reporting in a publication that the data in `x_sample` and `y_sample` are statistically different?"
   ]
  },
  {
   "cell_type": "code",
   "execution_count": 83,
   "id": "8b0daaf3",
   "metadata": {},
   "outputs": [],
   "source": [
    "x_vals=seq(8,12,0.1)\n",
    "probs_1 = mapply(dnorm, x_vals, mean = 10, sd = 0.5)\n",
    "probs_2 = mapply(dnorm, x_vals, mean = 10.2, sd = 0.5)"
   ]
  },
  {
   "cell_type": "code",
   "execution_count": 84,
   "id": "eb85bea4",
   "metadata": {},
   "outputs": [
    {
     "data": {
      "image/png": "[encoded data removed]",
      "text/plain": [
       "plot without title"
      ]
     },
     "metadata": {
      "image/png": {
       "height": 420,
       "width": 420
      }
     },
     "output_type": "display_data"
    }
   ],
   "source": [
    "ggplot() + \n",
    "  geom_line(aes(x=x_vals, y=probs_1, color = \"red\"), size=2) +\n",
    "  geom_line(aes(x=x_vals, y=probs_2, color = \"blue\"), size=2)+\n",
    "  scale_color_manual(labels = c(\"N(10.2,0.5)\", \"N(10,0.5)\"), values = c(\"blue\", \"red\"))"
   ]
  },
  {
   "cell_type": "code",
   "execution_count": 85,
   "id": "5e475920",
   "metadata": {},
   "outputs": [],
   "source": [
    "set.seed(42)\n",
    "x_sample<-rnorm(40,10,0.5)\n",
    "y_sample<-rnorm(40,10.2,0.5)"
   ]
  },
  {
   "cell_type": "code",
   "execution_count": 86,
   "id": "67810bdb",
   "metadata": {
    "pycharm": {
     "name": "#%%\n"
    }
   },
   "outputs": [
    {
     "data": {
      "text/plain": [
       "\n",
       "\tWelch Two Sample t-test\n",
       "\n",
       "data:  x_sample and y_sample\n",
       "t = -2.1504, df = 72.3, p-value = 0.03486\n",
       "alternative hypothesis: true difference in means is not equal to 0\n",
       "95 percent confidence interval:\n",
       " -0.50040708 -0.01897381\n",
       "sample estimates:\n",
       "mean of x mean of y \n",
       " 9.980232 10.239922 \n"
      ]
     },
     "metadata": {},
     "output_type": "display_data"
    }
   ],
   "source": [
    "t.test(x_sample,y_sample)\n",
    "# Yes, I would be comfortable reporting that the two distributions are statistically different because the p-value is\n",
    "# less than 0.05. It falls at about 0.03 which shows a significant difference between the two distributions. "
   ]
  },
  {
   "cell_type": "markdown",
   "id": "9fedba3e",
   "metadata": {
    "pycharm": {
     "name": "#%% md\n"
    }
   },
   "source": [
    "### Q5\n",
    "\n",
    "* We have used the function `dnorm` to plot the bell-shaped curve for a distribution $ x \\sim \\mathcal{N}(10, 0.5)$\n",
    "  * Use seq(8, 12, 0.1) to generate the x-axis values\n",
    "  * The pdf should look like the following\n",
    "\n",
    "![](https://www.dropbox.com/s/jl2c2atpkxze7ev/sample_pdf_sum_question.png?dl=1)\n",
    "\n",
    "* Use `dnorm` to compute the probability density for each point along the $x-$axis generated using `seq()` above\n",
    "  * What do you notice? Hint, sum the values obtained\n",
    "  \n"
   ]
  },
  {
   "cell_type": "code",
   "execution_count": 87,
   "id": "e6acec6e",
   "metadata": {
    "pycharm": {
     "name": "#%%\n"
    }
   },
   "outputs": [
    {
     "data": {
      "image/png": "[encoded data removed]",
      "text/plain": [
       "plot without title"
      ]
     },
     "metadata": {
      "image/png": {
       "height": 420,
       "width": 420
      }
     },
     "output_type": "display_data"
    }
   ],
   "source": [
    "x_vals=seq(8,12,0.1)\n",
    "probs_1 = mapply(dnorm, x_vals, mean = 10, sd = 0.5)\n",
    "ggplot() + \n",
    "  geom_line(aes(x=x_vals, y=probs_1), size=2)"
   ]
  },
  {
   "cell_type": "code",
   "execution_count": 88,
   "id": "324157a7",
   "metadata": {},
   "outputs": [
    {
     "data": {
      "text/html": [
       "9.99959885434281"
      ],
      "text/latex": [
       "9.99959885434281"
      ],
      "text/markdown": [
       "9.99959885434281"
      ],
      "text/plain": [
       "[1] 9.999599"
      ]
     },
     "metadata": {},
     "output_type": "display_data"
    }
   ],
   "source": [
    "sum(probs_1)\n",
    "# The sum of the values is very close to 1. This makes sense because the area under a pdf cruve should sum to 1."
   ]
  },
  {
   "cell_type": "markdown",
   "id": "99b70ba3",
   "metadata": {
    "pycharm": {
     "name": "#%%\n"
    }
   },
   "source": [
    "### Q6 Optional Challenge\n",
    "\n",
    "What transformation can you carry out to tranform the value to actual probabilities, i.e., values that sum to 1.  Write code to test whether your hypothesis works."
   ]
  },
  {
   "cell_type": "code",
   "execution_count": null,
   "id": "7ec5aa60",
   "metadata": {},
   "outputs": [],
   "source": [
    "# Write the code here"
   ]
  }
 ],
 "metadata": {
  "kernelspec": {
   "display_name": "R",
   "language": "R",
   "name": "ir"
  },
  "language_info": {
   "codemirror_mode": "r",
   "file_extension": ".r",
   "mimetype": "text/x-r-source",
   "name": "R",
   "pygments_lexer": "r",
   "version": "4.1.3"
  }
 },
 "nbformat": 4,
 "nbformat_minor": 5
}
