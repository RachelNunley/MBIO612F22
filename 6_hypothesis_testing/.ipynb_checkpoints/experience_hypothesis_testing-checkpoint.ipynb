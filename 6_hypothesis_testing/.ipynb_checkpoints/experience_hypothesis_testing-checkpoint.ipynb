{
 "cells": [
  {
   "cell_type": "code",
   "execution_count": 19,
   "id": "e3ff195c",
   "metadata": {},
   "outputs": [],
   "source": [
    "library(tidyverse)"
   ]
  },
  {
   "cell_type": "markdown",
   "id": "d0486091",
   "metadata": {},
   "source": [
    "Let's use the code provided below to generate a dataset representing two populations, each sampled from a Guassian with a specific population mean. Here I am generating only 5 samples"
   ]
  },
  {
   "cell_type": "code",
   "execution_count": 85,
   "id": "3b0a10f7",
   "metadata": {},
   "outputs": [
    {
     "data": {
      "text/html": [
       "<table class=\"dataframe\">\n",
       "<caption>A tibble: 10 × 2</caption>\n",
       "<thead>\n",
       "\t<tr><th scope=col>measure</th><th scope=col>site_name</th></tr>\n",
       "\t<tr><th scope=col>&lt;dbl&gt;</th><th scope=col>&lt;chr&gt;</th></tr>\n",
       "</thead>\n",
       "<tbody>\n",
       "\t<tr><td>10.29120</td><td>Site 1</td></tr>\n",
       "\t<tr><td>11.38886</td><td>Site 1</td></tr>\n",
       "\t<tr><td>10.64901</td><td>Site 1</td></tr>\n",
       "\t<tr><td>11.47788</td><td>Site 1</td></tr>\n",
       "\t<tr><td>10.43872</td><td>Site 1</td></tr>\n",
       "\t<tr><td>12.52232</td><td>Site 2</td></tr>\n",
       "\t<tr><td>11.95539</td><td>Site 2</td></tr>\n",
       "\t<tr><td>13.48441</td><td>Site 2</td></tr>\n",
       "\t<tr><td>10.40899</td><td>Site 2</td></tr>\n",
       "\t<tr><td>12.22564</td><td>Site 2</td></tr>\n",
       "</tbody>\n",
       "</table>\n"
      ],
      "text/latex": [
       "A tibble: 10 × 2\n",
       "\\begin{tabular}{ll}\n",
       " measure & site\\_name\\\\\n",
       " <dbl> & <chr>\\\\\n",
       "\\hline\n",
       "\t 10.29120 & Site 1\\\\\n",
       "\t 11.38886 & Site 1\\\\\n",
       "\t 10.64901 & Site 1\\\\\n",
       "\t 11.47788 & Site 1\\\\\n",
       "\t 10.43872 & Site 1\\\\\n",
       "\t 12.52232 & Site 2\\\\\n",
       "\t 11.95539 & Site 2\\\\\n",
       "\t 13.48441 & Site 2\\\\\n",
       "\t 10.40899 & Site 2\\\\\n",
       "\t 12.22564 & Site 2\\\\\n",
       "\\end{tabular}\n"
      ],
      "text/markdown": [
       "\n",
       "A tibble: 10 × 2\n",
       "\n",
       "| measure &lt;dbl&gt; | site_name &lt;chr&gt; |\n",
       "|---|---|\n",
       "| 10.29120 | Site 1 |\n",
       "| 11.38886 | Site 1 |\n",
       "| 10.64901 | Site 1 |\n",
       "| 11.47788 | Site 1 |\n",
       "| 10.43872 | Site 1 |\n",
       "| 12.52232 | Site 2 |\n",
       "| 11.95539 | Site 2 |\n",
       "| 13.48441 | Site 2 |\n",
       "| 10.40899 | Site 2 |\n",
       "| 12.22564 | Site 2 |\n",
       "\n"
      ],
      "text/plain": [
       "   measure  site_name\n",
       "1  10.29120 Site 1   \n",
       "2  11.38886 Site 1   \n",
       "3  10.64901 Site 1   \n",
       "4  11.47788 Site 1   \n",
       "5  10.43872 Site 1   \n",
       "6  12.52232 Site 2   \n",
       "7  11.95539 Site 2   \n",
       "8  13.48441 Site 2   \n",
       "9  10.40899 Site 2   \n",
       "10 12.22564 Site 2   "
      ]
     },
     "metadata": {},
     "output_type": "display_data"
    }
   ],
   "source": [
    "set.seed(110)\n",
    "data_1 = tibble(measure=rnorm(5, 10, 1))\n",
    "data_1$site_name <- 'Site 1'\n",
    "data_2 = tibble(measure=rnorm(5, 12, 1))\n",
    "data_2$site_name <- 'Site 2'\n",
    "complete_data = rbind(data_1, data_2)\n",
    "complete_data"
   ]
  },
  {
   "cell_type": "markdown",
   "id": "e08bf2cf",
   "metadata": {},
   "source": [
    "* I compute the mean of the dataset above using the following code:\n",
    "  * feel free to deconstruct the code to see what each chunk does.\n"
   ]
  },
  {
   "cell_type": "code",
   "execution_count": 86,
   "id": "dde6ba00",
   "metadata": {},
   "outputs": [
    {
     "data": {
      "text/html": [
       "10.8491329008612"
      ],
      "text/latex": [
       "10.8491329008612"
      ],
      "text/markdown": [
       "10.8491329008612"
      ],
      "text/plain": [
       "[1] 10.84913"
      ]
     },
     "metadata": {},
     "output_type": "display_data"
    },
    {
     "data": {
      "text/html": [
       "12.1193505444919"
      ],
      "text/latex": [
       "12.1193505444919"
      ],
      "text/markdown": [
       "12.1193505444919"
      ],
      "text/plain": [
       "[1] 12.11935"
      ]
     },
     "metadata": {},
     "output_type": "display_data"
    }
   ],
   "source": [
    "mean(complete_data[complete_data$site_name == \"Site 1\", ]$measure)\n",
    "mean(complete_data[complete_data$site_name == \"Site 2\", ]$measure)"
   ]
  },
  {
   "cell_type": "markdown",
   "id": "1ac520b8",
   "metadata": {},
   "source": [
    "* Use the `tapply` function instead of the code above to compute the means samples from \"Site 1\" and those from site 2\n",
    "  * See tapply for help if needed."
   ]
  },
  {
   "cell_type": "code",
   "execution_count": 161,
   "id": "501355df",
   "metadata": {},
   "outputs": [
    {
     "data": {
      "text/html": [
       "<style>\n",
       ".dl-inline {width: auto; margin:0; padding: 0}\n",
       ".dl-inline>dt, .dl-inline>dd {float: none; width: auto; display: inline-block}\n",
       ".dl-inline>dt::after {content: \":\\0020\"; padding-right: .5ex}\n",
       ".dl-inline>dt:not(:first-of-type) {padding-left: .5ex}\n",
       "</style><dl class=dl-inline><dt>Site 1</dt><dd>10.8491329008612</dd><dt>Site 2</dt><dd>12.1193505444919</dd></dl>\n"
      ],
      "text/latex": [
       "\\begin{description*}\n",
       "\\item[Site 1] 10.8491329008612\n",
       "\\item[Site 2] 12.1193505444919\n",
       "\\end{description*}\n"
      ],
      "text/markdown": [
       "Site 1\n",
       ":   10.8491329008612Site 2\n",
       ":   12.1193505444919\n",
       "\n"
      ],
      "text/plain": [
       "  Site 1   Site 2 \n",
       "10.84913 12.11935 "
      ]
     },
     "metadata": {},
     "output_type": "display_data"
    }
   ],
   "source": [
    "measure<-complete_data$measure\n",
    "site<- complete_data$site_name\n",
    "tapply(measure,site,mean)"
   ]
  },
  {
   "cell_type": "markdown",
   "id": "fd91de00",
   "metadata": {},
   "source": [
    "Q.2 \n",
    "\n",
    "* Use the bootstrapping-procedure covered in class to assess whether there is a statistically significant difference between the data in `Site 1` and that in `Site 2`.\n",
    "\n",
    "Make sure you follow the approach discussed in class and which consists of:\n",
    "\n",
    "1. Selecting an appropriate test statistic\n",
    "2. Bootstrapping a a distribuion for the observed statistic under the null hypothesis\n",
    "3. Desciding whether to accept or reject the null based on the probability of the null\n",
    "4. provide a p-value to support your decision.\n"
   ]
  },
  {
   "cell_type": "code",
   "execution_count": 87,
   "id": "6bcfbd58",
   "metadata": {},
   "outputs": [
    {
     "data": {
      "text/plain": [
       "\n",
       "\tWelch Two Sample t-test\n",
       "\n",
       "data:  data_1$measure and data_2$measure\n",
       "t = -2.2822, df = 5.8275, p-value = 0.0639\n",
       "alternative hypothesis: true difference in means is not equal to 0\n",
       "95 percent confidence interval:\n",
       " -2.6419581  0.1015228\n",
       "sample estimates:\n",
       "mean of x mean of y \n",
       " 10.84913  12.11935 \n"
      ]
     },
     "metadata": {},
     "output_type": "display_data"
    }
   ],
   "source": [
    "t.test(data_1$measure, data_2$measure)"
   ]
  },
  {
   "cell_type": "code",
   "execution_count": 88,
   "id": "31fd012d",
   "metadata": {},
   "outputs": [
    {
     "name": "stdout",
     "output_type": "stream",
     "text": [
      "List of 10\n",
      " $ statistic  : Named num -13.3\n",
      "  ..- attr(*, \"names\")= chr \"t\"\n",
      " $ parameter  : Named num 76.8\n",
      "  ..- attr(*, \"names\")= chr \"df\"\n",
      " $ p.value    : num 1.27e-21\n",
      " $ conf.int   : num [1:2] -3.22 -2.38\n",
      "  ..- attr(*, \"conf.level\")= num 0.95\n",
      " $ estimate   : Named num [1:2] 10 12.8\n",
      "  ..- attr(*, \"names\")= chr [1:2] \"mean of x\" \"mean of y\"\n",
      " $ null.value : Named num 0\n",
      "  ..- attr(*, \"names\")= chr \"difference in means\"\n",
      " $ stderr     : num 0.211\n",
      " $ alternative: chr \"two.sided\"\n",
      " $ method     : chr \"Welch Two Sample t-test\"\n",
      " $ data.name  : chr \"rnorm(40, 10, 1) and rnorm(40, 13, 1)\"\n",
      " - attr(*, \"class\")= chr \"htest\"\n"
     ]
    }
   ],
   "source": [
    "data = t.test(rnorm(40, 10, 1), rnorm(40, 13, 1))\n",
    "str(data)"
   ]
  },
  {
   "cell_type": "code",
   "execution_count": 89,
   "id": "5563b237",
   "metadata": {},
   "outputs": [
    {
     "data": {
      "text/html": [
       "1.26872352654389e-21"
      ],
      "text/latex": [
       "1.26872352654389e-21"
      ],
      "text/markdown": [
       "1.26872352654389e-21"
      ],
      "text/plain": [
       "[1] 1.268724e-21"
      ]
     },
     "metadata": {},
     "output_type": "display_data"
    }
   ],
   "source": [
    "data$p.value"
   ]
  },
  {
   "cell_type": "code",
   "execution_count": 90,
   "id": "d637669f",
   "metadata": {},
   "outputs": [
    {
     "data": {
      "text/html": [
       "<style>\n",
       ".list-inline {list-style: none; margin:0; padding: 0}\n",
       ".list-inline>li {display: inline-block}\n",
       ".list-inline>li:not(:last-child)::after {content: \"\\00b7\"; padding: 0 .5ex}\n",
       "</style>\n",
       "<ol class=list-inline><li>8.09212319575859e-23</li><li>6.73631910072434e-24</li><li>2.02161667683987e-19</li><li>2.7620029332298e-20</li><li>1.21874271481034e-21</li><li>1.00976966798859e-19</li><li>2.21618551953992e-24</li><li>1.47517122495839e-18</li><li>1.06706797765238e-23</li><li>1.20438929476304e-21</li></ol>\n"
      ],
      "text/latex": [
       "\\begin{enumerate*}\n",
       "\\item 8.09212319575859e-23\n",
       "\\item 6.73631910072434e-24\n",
       "\\item 2.02161667683987e-19\n",
       "\\item 2.7620029332298e-20\n",
       "\\item 1.21874271481034e-21\n",
       "\\item 1.00976966798859e-19\n",
       "\\item 2.21618551953992e-24\n",
       "\\item 1.47517122495839e-18\n",
       "\\item 1.06706797765238e-23\n",
       "\\item 1.20438929476304e-21\n",
       "\\end{enumerate*}\n"
      ],
      "text/markdown": [
       "1. 8.09212319575859e-23\n",
       "2. 6.73631910072434e-24\n",
       "3. 2.02161667683987e-19\n",
       "4. 2.7620029332298e-20\n",
       "5. 1.21874271481034e-21\n",
       "6. 1.00976966798859e-19\n",
       "7. 2.21618551953992e-24\n",
       "8. 1.47517122495839e-18\n",
       "9. 1.06706797765238e-23\n",
       "10. 1.20438929476304e-21\n",
       "\n",
       "\n"
      ],
      "text/plain": [
       " [1] 8.092123e-23 6.736319e-24 2.021617e-19 2.762003e-20 1.218743e-21\n",
       " [6] 1.009770e-19 2.216186e-24 1.475171e-18 1.067068e-23 1.204389e-21"
      ]
     },
     "metadata": {},
     "output_type": "display_data"
    }
   ],
   "source": [
    "replicate(10, t.test(rnorm(40, 10, 1), rnorm(40, 13, 1))$p.value)"
   ]
  },
  {
   "cell_type": "code",
   "execution_count": 91,
   "id": "cfcc7d77",
   "metadata": {},
   "outputs": [
    {
     "data": {
      "text/html": [
       "<style>\n",
       ".list-inline {list-style: none; margin:0; padding: 0}\n",
       ".list-inline>li {display: inline-block}\n",
       ".list-inline>li:not(:last-child)::after {content: \"\\00b7\"; padding: 0 .5ex}\n",
       "</style>\n",
       "<ol class=list-inline><li>TRUE</li><li>TRUE</li><li>TRUE</li><li>TRUE</li><li>TRUE</li><li>TRUE</li><li>TRUE</li><li>TRUE</li><li>TRUE</li><li>TRUE</li></ol>\n"
      ],
      "text/latex": [
       "\\begin{enumerate*}\n",
       "\\item TRUE\n",
       "\\item TRUE\n",
       "\\item TRUE\n",
       "\\item TRUE\n",
       "\\item TRUE\n",
       "\\item TRUE\n",
       "\\item TRUE\n",
       "\\item TRUE\n",
       "\\item TRUE\n",
       "\\item TRUE\n",
       "\\end{enumerate*}\n"
      ],
      "text/markdown": [
       "1. TRUE\n",
       "2. TRUE\n",
       "3. TRUE\n",
       "4. TRUE\n",
       "5. TRUE\n",
       "6. TRUE\n",
       "7. TRUE\n",
       "8. TRUE\n",
       "9. TRUE\n",
       "10. TRUE\n",
       "\n",
       "\n"
      ],
      "text/plain": [
       " [1] TRUE TRUE TRUE TRUE TRUE TRUE TRUE TRUE TRUE TRUE"
      ]
     },
     "metadata": {},
     "output_type": "display_data"
    }
   ],
   "source": [
    "replicate(10, t.test(rnorm(40, 10, 1), rnorm(40, 13, 1))$p.value)  < 0.05"
   ]
  },
  {
   "cell_type": "code",
   "execution_count": 92,
   "id": "d1f9496b",
   "metadata": {},
   "outputs": [],
   "source": [
    "passes_t_test = replicate(10000, t.test(rnorm(40, 10, 1), rnorm(40, 13, 1))$p.value)  < 0.05"
   ]
  },
  {
   "cell_type": "code",
   "execution_count": 93,
   "id": "acf375a5",
   "metadata": {},
   "outputs": [
    {
     "data": {
      "text/html": [
       "1"
      ],
      "text/latex": [
       "1"
      ],
      "text/markdown": [
       "1"
      ],
      "text/plain": [
       "[1] 1"
      ]
     },
     "metadata": {},
     "output_type": "display_data"
    }
   ],
   "source": [
    "sum(passes_t_test) / length(passes_t_test)"
   ]
  },
  {
   "cell_type": "markdown",
   "id": "36f886b6",
   "metadata": {},
   "source": [
    "#### Q2.0 \n",
    "\n",
    "Complete the following by describing the null and the alternative hypotheses we are testing here.\n"
   ]
  },
  {
   "cell_type": "markdown",
   "id": "28fb2045",
   "metadata": {},
   "source": [
    "The null hypothesis that there is no significant difference between Site 1 and Site 2. The alternative hypothesis says there is a significant difference between the two sites."
   ]
  },
  {
   "cell_type": "markdown",
   "id": "638ce673",
   "metadata": {},
   "source": [
    "#### Q.2.1 \n",
    "\n",
    "Produce a graph similar the one below (geom_density) display the distributions. If you're using the same seed as mine, your graph will look exactly the same as the one below \n",
    "\n",
    "![](https://www.dropbox.com/s/rz5jxm84kk8ac1m/dist.png?dl=1)"
   ]
  },
  {
   "cell_type": "code",
   "execution_count": 94,
   "id": "83243f10",
   "metadata": {},
   "outputs": [
    {
     "data": {
      "image/png": "[encoded data removed]",
      "text/plain": [
       "plot without title"
      ]
     },
     "metadata": {
      "image/png": {
       "height": 420,
       "width": 420
      }
     },
     "output_type": "display_data"
    }
   ],
   "source": [
    "ggplot(complete_data, aes(x=measure, fill = site_name)) + \n",
    "  geom_density(alpha = 0.4, bw =0.65) + \n",
    "  xlim(5,18)"
   ]
  },
  {
   "cell_type": "markdown",
   "id": "2ce7e15e",
   "metadata": {},
   "source": [
    "Q2.2 Select a proper test statistic and produce a distribution of the statistic under the null hypothesis. Plot the data as both a histogram and density curves. Your graph may look like this.\n",
    "\n",
    "![](https://www.dropbox.com/s/3jarqg9swneai0r/mean_under_null.png?dl=1)"
   ]
  },
  {
   "cell_type": "code",
   "execution_count": 95,
   "id": "88216ff7",
   "metadata": {},
   "outputs": [],
   "source": [
    "data_1 <- rnorm(100, 10, 1)\n",
    "data_2 <- rnorm(100, 13, 1)"
   ]
  },
  {
   "cell_type": "code",
   "execution_count": 96,
   "id": "58a2384a",
   "metadata": {},
   "outputs": [
    {
     "data": {
      "text/html": [
       "0.109453471699778"
      ],
      "text/latex": [
       "0.109453471699778"
      ],
      "text/markdown": [
       "0.109453471699778"
      ],
      "text/plain": [
       "[1] 0.1094535"
      ]
     },
     "metadata": {},
     "output_type": "display_data"
    }
   ],
   "source": [
    "statundernull = function(data_1, data_2){\n",
    "    \n",
    "    concat_data = c(data_1, data_2)\n",
    "    len_concat_data = length(concat_data)\n",
    "    \n",
    "    len_data_1 = length(data_1)    \n",
    "    shuffled_data = sample(concat_data)\n",
    "    new_data_1 = shuffled_data[1:len_data_1]\n",
    "    new_data_2 = shuffled_data[(len_data_1+1):len_concat_data]\n",
    "    mean(new_data_1) - mean(new_data_2)\n",
    "    \n",
    "}\n",
    "statundernull(data_1, data_2)"
   ]
  },
  {
   "cell_type": "code",
   "execution_count": 97,
   "id": "92eb09f5",
   "metadata": {},
   "outputs": [
    {
     "data": {
      "text/html": [
       "<style>\n",
       ".list-inline {list-style: none; margin:0; padding: 0}\n",
       ".list-inline>li {display: inline-block}\n",
       ".list-inline>li:not(:last-child)::after {content: \"\\00b7\"; padding: 0 .5ex}\n",
       "</style>\n",
       "<ol class=list-inline><li>0.335481529797821</li><li>-0.13389331547571</li><li>0.0606973732255884</li><li>-0.271711923323284</li><li>-0.118669359552728</li></ol>\n"
      ],
      "text/latex": [
       "\\begin{enumerate*}\n",
       "\\item 0.335481529797821\n",
       "\\item -0.13389331547571\n",
       "\\item 0.0606973732255884\n",
       "\\item -0.271711923323284\n",
       "\\item -0.118669359552728\n",
       "\\end{enumerate*}\n"
      ],
      "text/markdown": [
       "1. 0.335481529797821\n",
       "2. -0.13389331547571\n",
       "3. 0.0606973732255884\n",
       "4. -0.271711923323284\n",
       "5. -0.118669359552728\n",
       "\n",
       "\n"
      ],
      "text/plain": [
       "[1]  0.33548153 -0.13389332  0.06069737 -0.27171192 -0.11866936"
      ]
     },
     "metadata": {},
     "output_type": "display_data"
    }
   ],
   "source": [
    "replicate(5, statundernull(data_1, data_2))"
   ]
  },
  {
   "cell_type": "code",
   "execution_count": 98,
   "id": "fc90b3c1",
   "metadata": {},
   "outputs": [
    {
     "data": {
      "text/html": [
       "-0.00253852732221655"
      ],
      "text/latex": [
       "-0.00253852732221655"
      ],
      "text/markdown": [
       "-0.00253852732221655"
      ],
      "text/plain": [
       "[1] -0.002538527"
      ]
     },
     "metadata": {},
     "output_type": "display_data"
    }
   ],
   "source": [
    "mean_under_null = replicate(1000, statundernull(data_1, data_2))\n",
    "mean(mean_under_null)"
   ]
  },
  {
   "cell_type": "code",
   "execution_count": 99,
   "id": "d8269343",
   "metadata": {},
   "outputs": [
    {
     "data": {
      "image/png": "[encoded data removed]",
      "text/plain": [
       "plot without title"
      ]
     },
     "metadata": {
      "image/png": {
       "height": 420,
       "width": 420
      }
     },
     "output_type": "display_data"
    }
   ],
   "source": [
    "ggplot()+\n",
    "  geom_histogram(aes(mean_under_null, y=..density..), bins =30, alpha=0.2, color=\"black\") + \n",
    "  geom_density(aes(mean_under_null), bw=0.2, size=1.5) + \n",
    "  xlim(-3, 3)"
   ]
  },
  {
   "cell_type": "markdown",
   "id": "4f03ae0d",
   "metadata": {},
   "source": [
    "####  Q2.3. \n",
    "\n",
    "Calculate and plot the observed statistic on the graph you created in Q.2.2. \n"
   ]
  },
  {
   "cell_type": "code",
   "execution_count": 100,
   "id": "4670e933",
   "metadata": {},
   "outputs": [
    {
     "data": {
      "text/html": [
       "-2.54788024060088"
      ],
      "text/latex": [
       "-2.54788024060088"
      ],
      "text/markdown": [
       "-2.54788024060088"
      ],
      "text/plain": [
       "[1] -2.54788"
      ]
     },
     "metadata": {},
     "output_type": "display_data"
    }
   ],
   "source": [
    "observed_value = mean(data_1) - mean(data_2)\n",
    "observed_value"
   ]
  },
  {
   "cell_type": "code",
   "execution_count": 101,
   "id": "c1cf4605",
   "metadata": {},
   "outputs": [
    {
     "data": {
      "image/png": "[encoded data removed]",
      "text/plain": [
       "plot without title"
      ]
     },
     "metadata": {
      "image/png": {
       "height": 420,
       "width": 420
      }
     },
     "output_type": "display_data"
    }
   ],
   "source": [
    "ggplot()+\n",
    "  geom_histogram(aes(mean_under_null, y=..density..), bins =30, alpha=0.2, color=\"black\") + \n",
    "  geom_density(aes(mean_under_null), bw=0.2, size=1.5) + \n",
    "  xlim(-3, 3) + \n",
    "  geom_point(aes(observed_value, 0), color=\"red\", size=10)"
   ]
  },
  {
   "cell_type": "markdown",
   "id": "fd9ed735",
   "metadata": {},
   "source": [
    "#### Q2.4 \n",
    "compute the p-vlaue of the observed statistic under the null. What do you conclude about the hypotheses you enunciated in Q"
   ]
  },
  {
   "cell_type": "code",
   "execution_count": 102,
   "id": "c0328b6b",
   "metadata": {},
   "outputs": [
    {
     "data": {
      "text/html": [
       "0"
      ],
      "text/latex": [
       "0"
      ],
      "text/markdown": [
       "0"
      ],
      "text/plain": [
       "[1] 0"
      ]
     },
     "metadata": {},
     "output_type": "display_data"
    }
   ],
   "source": [
    "sum(mean_under_null <= observed_value) / length(mean_under_null)"
   ]
  },
  {
   "cell_type": "markdown",
   "id": "b602a749",
   "metadata": {},
   "source": [
    "The difference between the two means was 0. This shows how similar they are. Since our difference was 0, this tells us that out of the 1000 times that this test was run, there were 0 times that the observed statistic was equal to or larger than -2.5. The two samples were not similar and did not overlap."
   ]
  },
  {
   "cell_type": "markdown",
   "id": "71226301",
   "metadata": {},
   "source": [
    "#### Q.3 \n",
    "\n",
    "* The proportion of the of _P. lobata_, _M. capitata_ and _P. mendrina_ at a site X are c(0.60, 0.19, 0.21).\n",
    "* You surveyed site Y with different environmental conditions and obtains the following proportions for the three corals (0.61, 0.19, 0.20). Use the multinomial non-parametric hypotheses test to assess whether the proportions obtained at sites X and Y are statistically different.\n",
    "\n",
    "\n",
    "Although not explicitly required, your test should cover all the steps in Q2, i.e. appropriate graph(s) when possible, test statistics, and conclusion."
   ]
  },
  {
   "cell_type": "code",
   "execution_count": 152,
   "id": "0eddb12a",
   "metadata": {
    "scrolled": true
   },
   "outputs": [
    {
     "data": {
      "text/html": [
       "<table class=\"dataframe\">\n",
       "<caption>A tibble: 6 × 3</caption>\n",
       "<thead>\n",
       "\t<tr><th scope=col>coraltype</th><th scope=col>ratios</th><th scope=col>method</th></tr>\n",
       "\t<tr><th scope=col>&lt;chr&gt;</th><th scope=col>&lt;dbl&gt;</th><th scope=col>&lt;chr&gt;</th></tr>\n",
       "</thead>\n",
       "<tbody>\n",
       "\t<tr><td>P. lobata  </td><td>0.60</td><td>site x</td></tr>\n",
       "\t<tr><td>P. lobata  </td><td>0.61</td><td>site y</td></tr>\n",
       "\t<tr><td>M. capitata</td><td>0.19</td><td>site x</td></tr>\n",
       "\t<tr><td>M. capitata</td><td>0.19</td><td>site y</td></tr>\n",
       "\t<tr><td>P. mendrina</td><td>0.21</td><td>site x</td></tr>\n",
       "\t<tr><td>P. mendrina</td><td>0.20</td><td>site y</td></tr>\n",
       "</tbody>\n",
       "</table>\n"
      ],
      "text/latex": [
       "A tibble: 6 × 3\n",
       "\\begin{tabular}{lll}\n",
       " coraltype & ratios & method\\\\\n",
       " <chr> & <dbl> & <chr>\\\\\n",
       "\\hline\n",
       "\t P. lobata   & 0.60 & site x\\\\\n",
       "\t P. lobata   & 0.61 & site y\\\\\n",
       "\t M. capitata & 0.19 & site x\\\\\n",
       "\t M. capitata & 0.19 & site y\\\\\n",
       "\t P. mendrina & 0.21 & site x\\\\\n",
       "\t P. mendrina & 0.20 & site y\\\\\n",
       "\\end{tabular}\n"
      ],
      "text/markdown": [
       "\n",
       "A tibble: 6 × 3\n",
       "\n",
       "| coraltype &lt;chr&gt; | ratios &lt;dbl&gt; | method &lt;chr&gt; |\n",
       "|---|---|---|\n",
       "| P. lobata   | 0.60 | site x |\n",
       "| P. lobata   | 0.61 | site y |\n",
       "| M. capitata | 0.19 | site x |\n",
       "| M. capitata | 0.19 | site y |\n",
       "| P. mendrina | 0.21 | site x |\n",
       "| P. mendrina | 0.20 | site y |\n",
       "\n"
      ],
      "text/plain": [
       "  coraltype   ratios method\n",
       "1 P. lobata   0.60   site x\n",
       "2 P. lobata   0.61   site y\n",
       "3 M. capitata 0.19   site x\n",
       "4 M. capitata 0.19   site y\n",
       "5 P. mendrina 0.21   site x\n",
       "6 P. mendrina 0.20   site y"
      ]
     },
     "metadata": {},
     "output_type": "display_data"
    }
   ],
   "source": [
    "coraltype = c('P. lobata','P. lobata', 'M. capitata','M. capitata', 'P. mendrina','P. mendrina')\n",
    "ratios = c(0.60, 0.61, 0.19, 0.19, 0.21, 0.20)\n",
    "method = rep(c(\"site x\", \"site y\"), 3)\n",
    "\n",
    "\n",
    "coral_proportions = tibble(coraltype, ratios, method)\n",
    "coral_proportions"
   ]
  },
  {
   "cell_type": "code",
   "execution_count": 159,
   "id": "2e4944e1",
   "metadata": {},
   "outputs": [
    {
     "data": {
      "image/png": "[encoded data removed]",
      "text/plain": [
       "plot without title"
      ]
     },
     "metadata": {
      "image/png": {
       "height": 420,
       "width": 420
      }
     },
     "output_type": "display_data"
    }
   ],
   "source": [
    "ggplot(coral_proportions, aes(fill=method, y=ratios, x=coraltype)) + \n",
    "    geom_bar(position=\"dodge\", stat=\"identity\") + \n",
    "    coord_flip()"
   ]
  },
  {
   "cell_type": "code",
   "execution_count": 153,
   "id": "488f562b",
   "metadata": {},
   "outputs": [
    {
     "data": {
      "text/html": [
       "5"
      ],
      "text/latex": [
       "5"
      ],
      "text/markdown": [
       "5"
      ],
      "text/plain": [
       "[1] 5"
      ]
     },
     "metadata": {},
     "output_type": "display_data"
    }
   ],
   "source": [
    "subtract = function(x){\n",
    "    x[1] - x[2]\n",
    "}\n",
    "\n",
    "subtract(c(20, 15))"
   ]
  },
  {
   "cell_type": "code",
   "execution_count": 156,
   "id": "22f0b78a",
   "metadata": {},
   "outputs": [
    {
     "data": {
      "text/html": [
       "<style>\n",
       ".dl-inline {width: auto; margin:0; padding: 0}\n",
       ".dl-inline>dt, .dl-inline>dd {float: none; width: auto; display: inline-block}\n",
       ".dl-inline>dt::after {content: \":\\0020\"; padding-right: .5ex}\n",
       ".dl-inline>dt:not(:first-of-type) {padding-left: .5ex}\n",
       "</style><dl class=dl-inline><dt>M. capitata</dt><dd>0</dd><dt>P. lobata</dt><dd>-0.01</dd><dt>P. mendrina</dt><dd>0.00999999999999998</dd></dl>\n"
      ],
      "text/latex": [
       "\\begin{description*}\n",
       "\\item[M. capitata] 0\n",
       "\\item[P. lobata] -0.01\n",
       "\\item[P. mendrina] 0.00999999999999998\n",
       "\\end{description*}\n"
      ],
      "text/markdown": [
       "M. capitata\n",
       ":   0P. lobata\n",
       ":   -0.01P. mendrina\n",
       ":   0.00999999999999998\n",
       "\n"
      ],
      "text/plain": [
       "M. capitata   P. lobata P. mendrina \n",
       "       0.00       -0.01        0.01 "
      ]
     },
     "metadata": {},
     "output_type": "display_data"
    }
   ],
   "source": [
    "tapply(coral_proportions$ratios, coral_proportions$coraltype, subtract)"
   ]
  },
  {
   "cell_type": "code",
   "execution_count": 158,
   "id": "899a8ea9",
   "metadata": {},
   "outputs": [
    {
     "data": {
      "text/html": [
       "0.01"
      ],
      "text/latex": [
       "0.01"
      ],
      "text/markdown": [
       "0.01"
      ],
      "text/plain": [
       "[1] 0.01"
      ]
     },
     "metadata": {},
     "output_type": "display_data"
    }
   ],
   "source": [
    "subtract_abs = function(x){\n",
    "    abs(x[1] - x[2])\n",
    "}\n",
    "\n",
    "\n",
    "sum(tapply(coral_proportions$ratios, coral_proportions$coraltype, subtract_abs))/2"
   ]
  },
  {
   "cell_type": "code",
   "execution_count": 163,
   "id": "9c034ea1",
   "metadata": {},
   "outputs": [
    {
     "data": {
      "text/html": [
       "<style>\n",
       ".list-inline {list-style: none; margin:0; padding: 0}\n",
       ".list-inline>li {display: inline-block}\n",
       ".list-inline>li:not(:last-child)::after {content: \"\\00b7\"; padding: 0 .5ex}\n",
       "</style>\n",
       "<ol class=list-inline><li>'P. lobata'</li><li>'P. lobata'</li><li>'M. capitata'</li><li>'P. lobata'</li><li>'P. lobata'</li><li>'P. lobata'</li><li>'P. mendrina'</li><li>'P. lobata'</li><li>'P. lobata'</li><li>'P. lobata'</li><li>'P. lobata'</li><li>'P. lobata'</li><li>'P. lobata'</li><li>'P. lobata'</li><li>'P. lobata'</li><li>'P. mendrina'</li><li>'P. lobata'</li><li>'P. lobata'</li><li>'P. lobata'</li><li>'P. lobata'</li><li>'P. mendrina'</li><li>'M. capitata'</li><li>'P. lobata'</li><li>'P. mendrina'</li><li>'P. mendrina'</li><li>'M. capitata'</li><li>'P. lobata'</li><li>'P. lobata'</li><li>'P. lobata'</li><li>'P. mendrina'</li><li>'M. capitata'</li><li>'P. lobata'</li><li>'P. mendrina'</li><li>'P. mendrina'</li><li>'M. capitata'</li><li>'P. mendrina'</li><li>'P. mendrina'</li><li>'M. capitata'</li><li>'M. capitata'</li><li>'P. lobata'</li><li>'P. lobata'</li><li>'P. lobata'</li><li>'P. lobata'</li><li>'P. lobata'</li><li>'P. lobata'</li><li>'P. lobata'</li><li>'P. lobata'</li><li>'M. capitata'</li><li>'P. lobata'</li><li>'P. lobata'</li><li>'P. lobata'</li><li>'P. lobata'</li><li>'M. capitata'</li><li>'M. capitata'</li><li>'P. lobata'</li><li>'P. lobata'</li><li>'P. mendrina'</li><li>'P. lobata'</li><li>'P. lobata'</li><li>'P. lobata'</li><li>'P. lobata'</li><li>'P. mendrina'</li><li>'M. capitata'</li><li>'M. capitata'</li><li>'P. lobata'</li><li>'P. lobata'</li><li>'P. lobata'</li><li>'P. lobata'</li><li>'P. lobata'</li><li>'M. capitata'</li><li>'P. lobata'</li><li>'P. lobata'</li><li>'P. lobata'</li><li>'P. lobata'</li><li>'P. lobata'</li><li>'P. lobata'</li><li>'P. lobata'</li><li>'P. mendrina'</li><li>'P. mendrina'</li><li>'M. capitata'</li><li>'P. mendrina'</li><li>'P. mendrina'</li><li>'P. lobata'</li><li>'P. mendrina'</li><li>'P. lobata'</li><li>'P. lobata'</li><li>'P. mendrina'</li><li>'P. lobata'</li><li>'P. lobata'</li><li>'P. mendrina'</li><li>'P. lobata'</li><li>'M. capitata'</li><li>'M. capitata'</li><li>'P. lobata'</li><li>'P. lobata'</li><li>'P. mendrina'</li><li>'P. mendrina'</li><li>'M. capitata'</li><li>'P. lobata'</li><li>'M. capitata'</li><li>'P. lobata'</li><li>'P. mendrina'</li><li>'P. lobata'</li><li>'P. mendrina'</li><li>'P. mendrina'</li><li>'P. lobata'</li><li>'M. capitata'</li><li>'P. lobata'</li><li>'P. lobata'</li><li>'P. lobata'</li><li>'P. mendrina'</li><li>'P. lobata'</li><li>'P. lobata'</li><li>'P. lobata'</li><li>'P. lobata'</li><li>'P. mendrina'</li><li>'M. capitata'</li><li>'M. capitata'</li><li>'P. mendrina'</li><li>'P. lobata'</li><li>'P. mendrina'</li><li>'P. mendrina'</li><li>'P. lobata'</li><li>'M. capitata'</li><li>'M. capitata'</li><li>'P. lobata'</li><li>'P. lobata'</li><li>'P. mendrina'</li><li>'P. lobata'</li><li>'M. capitata'</li><li>'P. lobata'</li><li>'P. mendrina'</li><li>'P. lobata'</li><li>'P. lobata'</li><li>'M. capitata'</li><li>'P. mendrina'</li><li>'P. lobata'</li><li>'P. mendrina'</li><li>'P. lobata'</li><li>'P. lobata'</li><li>'P. lobata'</li><li>'P. lobata'</li><li>'M. capitata'</li><li>'P. mendrina'</li><li>'P. lobata'</li><li>'P. mendrina'</li><li>'P. lobata'</li><li>'P. lobata'</li><li>'P. lobata'</li><li>'P. mendrina'</li><li>'P. lobata'</li><li>'M. capitata'</li><li>'M. capitata'</li><li>'M. capitata'</li><li>'P. lobata'</li><li>'P. lobata'</li><li>'P. mendrina'</li><li>'P. lobata'</li><li>'M. capitata'</li><li>'P. lobata'</li><li>'P. lobata'</li><li>'P. lobata'</li><li>'P. lobata'</li><li>'P. lobata'</li><li>'P. mendrina'</li><li>'P. lobata'</li><li>'P. lobata'</li><li>'P. mendrina'</li><li>'P. lobata'</li><li>'P. lobata'</li><li>'P. lobata'</li><li>'P. lobata'</li><li>'P. lobata'</li><li>'P. lobata'</li><li>'P. lobata'</li><li>'P. mendrina'</li><li>'P. mendrina'</li><li>'P. mendrina'</li><li>'P. lobata'</li><li>'P. lobata'</li><li>'M. capitata'</li><li>'M. capitata'</li><li>'M. capitata'</li><li>'P. mendrina'</li><li>'P. mendrina'</li><li>'M. capitata'</li><li>'P. lobata'</li><li>'P. mendrina'</li><li>'P. mendrina'</li><li>'P. mendrina'</li><li>'P. mendrina'</li><li>'P. mendrina'</li><li>'P. mendrina'</li><li>'P. lobata'</li><li>'P. lobata'</li><li>'P. lobata'</li><li>'P. lobata'</li><li>'P. lobata'</li><li>'M. capitata'</li><li>'P. lobata'</li></ol>\n"
      ],
      "text/latex": [
       "\\begin{enumerate*}\n",
       "\\item 'P. lobata'\n",
       "\\item 'P. lobata'\n",
       "\\item 'M. capitata'\n",
       "\\item 'P. lobata'\n",
       "\\item 'P. lobata'\n",
       "\\item 'P. lobata'\n",
       "\\item 'P. mendrina'\n",
       "\\item 'P. lobata'\n",
       "\\item 'P. lobata'\n",
       "\\item 'P. lobata'\n",
       "\\item 'P. lobata'\n",
       "\\item 'P. lobata'\n",
       "\\item 'P. lobata'\n",
       "\\item 'P. lobata'\n",
       "\\item 'P. lobata'\n",
       "\\item 'P. mendrina'\n",
       "\\item 'P. lobata'\n",
       "\\item 'P. lobata'\n",
       "\\item 'P. lobata'\n",
       "\\item 'P. lobata'\n",
       "\\item 'P. mendrina'\n",
       "\\item 'M. capitata'\n",
       "\\item 'P. lobata'\n",
       "\\item 'P. mendrina'\n",
       "\\item 'P. mendrina'\n",
       "\\item 'M. capitata'\n",
       "\\item 'P. lobata'\n",
       "\\item 'P. lobata'\n",
       "\\item 'P. lobata'\n",
       "\\item 'P. mendrina'\n",
       "\\item 'M. capitata'\n",
       "\\item 'P. lobata'\n",
       "\\item 'P. mendrina'\n",
       "\\item 'P. mendrina'\n",
       "\\item 'M. capitata'\n",
       "\\item 'P. mendrina'\n",
       "\\item 'P. mendrina'\n",
       "\\item 'M. capitata'\n",
       "\\item 'M. capitata'\n",
       "\\item 'P. lobata'\n",
       "\\item 'P. lobata'\n",
       "\\item 'P. lobata'\n",
       "\\item 'P. lobata'\n",
       "\\item 'P. lobata'\n",
       "\\item 'P. lobata'\n",
       "\\item 'P. lobata'\n",
       "\\item 'P. lobata'\n",
       "\\item 'M. capitata'\n",
       "\\item 'P. lobata'\n",
       "\\item 'P. lobata'\n",
       "\\item 'P. lobata'\n",
       "\\item 'P. lobata'\n",
       "\\item 'M. capitata'\n",
       "\\item 'M. capitata'\n",
       "\\item 'P. lobata'\n",
       "\\item 'P. lobata'\n",
       "\\item 'P. mendrina'\n",
       "\\item 'P. lobata'\n",
       "\\item 'P. lobata'\n",
       "\\item 'P. lobata'\n",
       "\\item 'P. lobata'\n",
       "\\item 'P. mendrina'\n",
       "\\item 'M. capitata'\n",
       "\\item 'M. capitata'\n",
       "\\item 'P. lobata'\n",
       "\\item 'P. lobata'\n",
       "\\item 'P. lobata'\n",
       "\\item 'P. lobata'\n",
       "\\item 'P. lobata'\n",
       "\\item 'M. capitata'\n",
       "\\item 'P. lobata'\n",
       "\\item 'P. lobata'\n",
       "\\item 'P. lobata'\n",
       "\\item 'P. lobata'\n",
       "\\item 'P. lobata'\n",
       "\\item 'P. lobata'\n",
       "\\item 'P. lobata'\n",
       "\\item 'P. mendrina'\n",
       "\\item 'P. mendrina'\n",
       "\\item 'M. capitata'\n",
       "\\item 'P. mendrina'\n",
       "\\item 'P. mendrina'\n",
       "\\item 'P. lobata'\n",
       "\\item 'P. mendrina'\n",
       "\\item 'P. lobata'\n",
       "\\item 'P. lobata'\n",
       "\\item 'P. mendrina'\n",
       "\\item 'P. lobata'\n",
       "\\item 'P. lobata'\n",
       "\\item 'P. mendrina'\n",
       "\\item 'P. lobata'\n",
       "\\item 'M. capitata'\n",
       "\\item 'M. capitata'\n",
       "\\item 'P. lobata'\n",
       "\\item 'P. lobata'\n",
       "\\item 'P. mendrina'\n",
       "\\item 'P. mendrina'\n",
       "\\item 'M. capitata'\n",
       "\\item 'P. lobata'\n",
       "\\item 'M. capitata'\n",
       "\\item 'P. lobata'\n",
       "\\item 'P. mendrina'\n",
       "\\item 'P. lobata'\n",
       "\\item 'P. mendrina'\n",
       "\\item 'P. mendrina'\n",
       "\\item 'P. lobata'\n",
       "\\item 'M. capitata'\n",
       "\\item 'P. lobata'\n",
       "\\item 'P. lobata'\n",
       "\\item 'P. lobata'\n",
       "\\item 'P. mendrina'\n",
       "\\item 'P. lobata'\n",
       "\\item 'P. lobata'\n",
       "\\item 'P. lobata'\n",
       "\\item 'P. lobata'\n",
       "\\item 'P. mendrina'\n",
       "\\item 'M. capitata'\n",
       "\\item 'M. capitata'\n",
       "\\item 'P. mendrina'\n",
       "\\item 'P. lobata'\n",
       "\\item 'P. mendrina'\n",
       "\\item 'P. mendrina'\n",
       "\\item 'P. lobata'\n",
       "\\item 'M. capitata'\n",
       "\\item 'M. capitata'\n",
       "\\item 'P. lobata'\n",
       "\\item 'P. lobata'\n",
       "\\item 'P. mendrina'\n",
       "\\item 'P. lobata'\n",
       "\\item 'M. capitata'\n",
       "\\item 'P. lobata'\n",
       "\\item 'P. mendrina'\n",
       "\\item 'P. lobata'\n",
       "\\item 'P. lobata'\n",
       "\\item 'M. capitata'\n",
       "\\item 'P. mendrina'\n",
       "\\item 'P. lobata'\n",
       "\\item 'P. mendrina'\n",
       "\\item 'P. lobata'\n",
       "\\item 'P. lobata'\n",
       "\\item 'P. lobata'\n",
       "\\item 'P. lobata'\n",
       "\\item 'M. capitata'\n",
       "\\item 'P. mendrina'\n",
       "\\item 'P. lobata'\n",
       "\\item 'P. mendrina'\n",
       "\\item 'P. lobata'\n",
       "\\item 'P. lobata'\n",
       "\\item 'P. lobata'\n",
       "\\item 'P. mendrina'\n",
       "\\item 'P. lobata'\n",
       "\\item 'M. capitata'\n",
       "\\item 'M. capitata'\n",
       "\\item 'M. capitata'\n",
       "\\item 'P. lobata'\n",
       "\\item 'P. lobata'\n",
       "\\item 'P. mendrina'\n",
       "\\item 'P. lobata'\n",
       "\\item 'M. capitata'\n",
       "\\item 'P. lobata'\n",
       "\\item 'P. lobata'\n",
       "\\item 'P. lobata'\n",
       "\\item 'P. lobata'\n",
       "\\item 'P. lobata'\n",
       "\\item 'P. mendrina'\n",
       "\\item 'P. lobata'\n",
       "\\item 'P. lobata'\n",
       "\\item 'P. mendrina'\n",
       "\\item 'P. lobata'\n",
       "\\item 'P. lobata'\n",
       "\\item 'P. lobata'\n",
       "\\item 'P. lobata'\n",
       "\\item 'P. lobata'\n",
       "\\item 'P. lobata'\n",
       "\\item 'P. lobata'\n",
       "\\item 'P. mendrina'\n",
       "\\item 'P. mendrina'\n",
       "\\item 'P. mendrina'\n",
       "\\item 'P. lobata'\n",
       "\\item 'P. lobata'\n",
       "\\item 'M. capitata'\n",
       "\\item 'M. capitata'\n",
       "\\item 'M. capitata'\n",
       "\\item 'P. mendrina'\n",
       "\\item 'P. mendrina'\n",
       "\\item 'M. capitata'\n",
       "\\item 'P. lobata'\n",
       "\\item 'P. mendrina'\n",
       "\\item 'P. mendrina'\n",
       "\\item 'P. mendrina'\n",
       "\\item 'P. mendrina'\n",
       "\\item 'P. mendrina'\n",
       "\\item 'P. mendrina'\n",
       "\\item 'P. lobata'\n",
       "\\item 'P. lobata'\n",
       "\\item 'P. lobata'\n",
       "\\item 'P. lobata'\n",
       "\\item 'P. lobata'\n",
       "\\item 'M. capitata'\n",
       "\\item 'P. lobata'\n",
       "\\end{enumerate*}\n"
      ],
      "text/markdown": [
       "1. 'P. lobata'\n",
       "2. 'P. lobata'\n",
       "3. 'M. capitata'\n",
       "4. 'P. lobata'\n",
       "5. 'P. lobata'\n",
       "6. 'P. lobata'\n",
       "7. 'P. mendrina'\n",
       "8. 'P. lobata'\n",
       "9. 'P. lobata'\n",
       "10. 'P. lobata'\n",
       "11. 'P. lobata'\n",
       "12. 'P. lobata'\n",
       "13. 'P. lobata'\n",
       "14. 'P. lobata'\n",
       "15. 'P. lobata'\n",
       "16. 'P. mendrina'\n",
       "17. 'P. lobata'\n",
       "18. 'P. lobata'\n",
       "19. 'P. lobata'\n",
       "20. 'P. lobata'\n",
       "21. 'P. mendrina'\n",
       "22. 'M. capitata'\n",
       "23. 'P. lobata'\n",
       "24. 'P. mendrina'\n",
       "25. 'P. mendrina'\n",
       "26. 'M. capitata'\n",
       "27. 'P. lobata'\n",
       "28. 'P. lobata'\n",
       "29. 'P. lobata'\n",
       "30. 'P. mendrina'\n",
       "31. 'M. capitata'\n",
       "32. 'P. lobata'\n",
       "33. 'P. mendrina'\n",
       "34. 'P. mendrina'\n",
       "35. 'M. capitata'\n",
       "36. 'P. mendrina'\n",
       "37. 'P. mendrina'\n",
       "38. 'M. capitata'\n",
       "39. 'M. capitata'\n",
       "40. 'P. lobata'\n",
       "41. 'P. lobata'\n",
       "42. 'P. lobata'\n",
       "43. 'P. lobata'\n",
       "44. 'P. lobata'\n",
       "45. 'P. lobata'\n",
       "46. 'P. lobata'\n",
       "47. 'P. lobata'\n",
       "48. 'M. capitata'\n",
       "49. 'P. lobata'\n",
       "50. 'P. lobata'\n",
       "51. 'P. lobata'\n",
       "52. 'P. lobata'\n",
       "53. 'M. capitata'\n",
       "54. 'M. capitata'\n",
       "55. 'P. lobata'\n",
       "56. 'P. lobata'\n",
       "57. 'P. mendrina'\n",
       "58. 'P. lobata'\n",
       "59. 'P. lobata'\n",
       "60. 'P. lobata'\n",
       "61. 'P. lobata'\n",
       "62. 'P. mendrina'\n",
       "63. 'M. capitata'\n",
       "64. 'M. capitata'\n",
       "65. 'P. lobata'\n",
       "66. 'P. lobata'\n",
       "67. 'P. lobata'\n",
       "68. 'P. lobata'\n",
       "69. 'P. lobata'\n",
       "70. 'M. capitata'\n",
       "71. 'P. lobata'\n",
       "72. 'P. lobata'\n",
       "73. 'P. lobata'\n",
       "74. 'P. lobata'\n",
       "75. 'P. lobata'\n",
       "76. 'P. lobata'\n",
       "77. 'P. lobata'\n",
       "78. 'P. mendrina'\n",
       "79. 'P. mendrina'\n",
       "80. 'M. capitata'\n",
       "81. 'P. mendrina'\n",
       "82. 'P. mendrina'\n",
       "83. 'P. lobata'\n",
       "84. 'P. mendrina'\n",
       "85. 'P. lobata'\n",
       "86. 'P. lobata'\n",
       "87. 'P. mendrina'\n",
       "88. 'P. lobata'\n",
       "89. 'P. lobata'\n",
       "90. 'P. mendrina'\n",
       "91. 'P. lobata'\n",
       "92. 'M. capitata'\n",
       "93. 'M. capitata'\n",
       "94. 'P. lobata'\n",
       "95. 'P. lobata'\n",
       "96. 'P. mendrina'\n",
       "97. 'P. mendrina'\n",
       "98. 'M. capitata'\n",
       "99. 'P. lobata'\n",
       "100. 'M. capitata'\n",
       "101. 'P. lobata'\n",
       "102. 'P. mendrina'\n",
       "103. 'P. lobata'\n",
       "104. 'P. mendrina'\n",
       "105. 'P. mendrina'\n",
       "106. 'P. lobata'\n",
       "107. 'M. capitata'\n",
       "108. 'P. lobata'\n",
       "109. 'P. lobata'\n",
       "110. 'P. lobata'\n",
       "111. 'P. mendrina'\n",
       "112. 'P. lobata'\n",
       "113. 'P. lobata'\n",
       "114. 'P. lobata'\n",
       "115. 'P. lobata'\n",
       "116. 'P. mendrina'\n",
       "117. 'M. capitata'\n",
       "118. 'M. capitata'\n",
       "119. 'P. mendrina'\n",
       "120. 'P. lobata'\n",
       "121. 'P. mendrina'\n",
       "122. 'P. mendrina'\n",
       "123. 'P. lobata'\n",
       "124. 'M. capitata'\n",
       "125. 'M. capitata'\n",
       "126. 'P. lobata'\n",
       "127. 'P. lobata'\n",
       "128. 'P. mendrina'\n",
       "129. 'P. lobata'\n",
       "130. 'M. capitata'\n",
       "131. 'P. lobata'\n",
       "132. 'P. mendrina'\n",
       "133. 'P. lobata'\n",
       "134. 'P. lobata'\n",
       "135. 'M. capitata'\n",
       "136. 'P. mendrina'\n",
       "137. 'P. lobata'\n",
       "138. 'P. mendrina'\n",
       "139. 'P. lobata'\n",
       "140. 'P. lobata'\n",
       "141. 'P. lobata'\n",
       "142. 'P. lobata'\n",
       "143. 'M. capitata'\n",
       "144. 'P. mendrina'\n",
       "145. 'P. lobata'\n",
       "146. 'P. mendrina'\n",
       "147. 'P. lobata'\n",
       "148. 'P. lobata'\n",
       "149. 'P. lobata'\n",
       "150. 'P. mendrina'\n",
       "151. 'P. lobata'\n",
       "152. 'M. capitata'\n",
       "153. 'M. capitata'\n",
       "154. 'M. capitata'\n",
       "155. 'P. lobata'\n",
       "156. 'P. lobata'\n",
       "157. 'P. mendrina'\n",
       "158. 'P. lobata'\n",
       "159. 'M. capitata'\n",
       "160. 'P. lobata'\n",
       "161. 'P. lobata'\n",
       "162. 'P. lobata'\n",
       "163. 'P. lobata'\n",
       "164. 'P. lobata'\n",
       "165. 'P. mendrina'\n",
       "166. 'P. lobata'\n",
       "167. 'P. lobata'\n",
       "168. 'P. mendrina'\n",
       "169. 'P. lobata'\n",
       "170. 'P. lobata'\n",
       "171. 'P. lobata'\n",
       "172. 'P. lobata'\n",
       "173. 'P. lobata'\n",
       "174. 'P. lobata'\n",
       "175. 'P. lobata'\n",
       "176. 'P. mendrina'\n",
       "177. 'P. mendrina'\n",
       "178. 'P. mendrina'\n",
       "179. 'P. lobata'\n",
       "180. 'P. lobata'\n",
       "181. 'M. capitata'\n",
       "182. 'M. capitata'\n",
       "183. 'M. capitata'\n",
       "184. 'P. mendrina'\n",
       "185. 'P. mendrina'\n",
       "186. 'M. capitata'\n",
       "187. 'P. lobata'\n",
       "188. 'P. mendrina'\n",
       "189. 'P. mendrina'\n",
       "190. 'P. mendrina'\n",
       "191. 'P. mendrina'\n",
       "192. 'P. mendrina'\n",
       "193. 'P. mendrina'\n",
       "194. 'P. lobata'\n",
       "195. 'P. lobata'\n",
       "196. 'P. lobata'\n",
       "197. 'P. lobata'\n",
       "198. 'P. lobata'\n",
       "199. 'M. capitata'\n",
       "200. 'P. lobata'\n",
       "\n",
       "\n"
      ],
      "text/plain": [
       "  [1] \"P. lobata\"   \"P. lobata\"   \"M. capitata\" \"P. lobata\"   \"P. lobata\"  \n",
       "  [6] \"P. lobata\"   \"P. mendrina\" \"P. lobata\"   \"P. lobata\"   \"P. lobata\"  \n",
       " [11] \"P. lobata\"   \"P. lobata\"   \"P. lobata\"   \"P. lobata\"   \"P. lobata\"  \n",
       " [16] \"P. mendrina\" \"P. lobata\"   \"P. lobata\"   \"P. lobata\"   \"P. lobata\"  \n",
       " [21] \"P. mendrina\" \"M. capitata\" \"P. lobata\"   \"P. mendrina\" \"P. mendrina\"\n",
       " [26] \"M. capitata\" \"P. lobata\"   \"P. lobata\"   \"P. lobata\"   \"P. mendrina\"\n",
       " [31] \"M. capitata\" \"P. lobata\"   \"P. mendrina\" \"P. mendrina\" \"M. capitata\"\n",
       " [36] \"P. mendrina\" \"P. mendrina\" \"M. capitata\" \"M. capitata\" \"P. lobata\"  \n",
       " [41] \"P. lobata\"   \"P. lobata\"   \"P. lobata\"   \"P. lobata\"   \"P. lobata\"  \n",
       " [46] \"P. lobata\"   \"P. lobata\"   \"M. capitata\" \"P. lobata\"   \"P. lobata\"  \n",
       " [51] \"P. lobata\"   \"P. lobata\"   \"M. capitata\" \"M. capitata\" \"P. lobata\"  \n",
       " [56] \"P. lobata\"   \"P. mendrina\" \"P. lobata\"   \"P. lobata\"   \"P. lobata\"  \n",
       " [61] \"P. lobata\"   \"P. mendrina\" \"M. capitata\" \"M. capitata\" \"P. lobata\"  \n",
       " [66] \"P. lobata\"   \"P. lobata\"   \"P. lobata\"   \"P. lobata\"   \"M. capitata\"\n",
       " [71] \"P. lobata\"   \"P. lobata\"   \"P. lobata\"   \"P. lobata\"   \"P. lobata\"  \n",
       " [76] \"P. lobata\"   \"P. lobata\"   \"P. mendrina\" \"P. mendrina\" \"M. capitata\"\n",
       " [81] \"P. mendrina\" \"P. mendrina\" \"P. lobata\"   \"P. mendrina\" \"P. lobata\"  \n",
       " [86] \"P. lobata\"   \"P. mendrina\" \"P. lobata\"   \"P. lobata\"   \"P. mendrina\"\n",
       " [91] \"P. lobata\"   \"M. capitata\" \"M. capitata\" \"P. lobata\"   \"P. lobata\"  \n",
       " [96] \"P. mendrina\" \"P. mendrina\" \"M. capitata\" \"P. lobata\"   \"M. capitata\"\n",
       "[101] \"P. lobata\"   \"P. mendrina\" \"P. lobata\"   \"P. mendrina\" \"P. mendrina\"\n",
       "[106] \"P. lobata\"   \"M. capitata\" \"P. lobata\"   \"P. lobata\"   \"P. lobata\"  \n",
       "[111] \"P. mendrina\" \"P. lobata\"   \"P. lobata\"   \"P. lobata\"   \"P. lobata\"  \n",
       "[116] \"P. mendrina\" \"M. capitata\" \"M. capitata\" \"P. mendrina\" \"P. lobata\"  \n",
       "[121] \"P. mendrina\" \"P. mendrina\" \"P. lobata\"   \"M. capitata\" \"M. capitata\"\n",
       "[126] \"P. lobata\"   \"P. lobata\"   \"P. mendrina\" \"P. lobata\"   \"M. capitata\"\n",
       "[131] \"P. lobata\"   \"P. mendrina\" \"P. lobata\"   \"P. lobata\"   \"M. capitata\"\n",
       "[136] \"P. mendrina\" \"P. lobata\"   \"P. mendrina\" \"P. lobata\"   \"P. lobata\"  \n",
       "[141] \"P. lobata\"   \"P. lobata\"   \"M. capitata\" \"P. mendrina\" \"P. lobata\"  \n",
       "[146] \"P. mendrina\" \"P. lobata\"   \"P. lobata\"   \"P. lobata\"   \"P. mendrina\"\n",
       "[151] \"P. lobata\"   \"M. capitata\" \"M. capitata\" \"M. capitata\" \"P. lobata\"  \n",
       "[156] \"P. lobata\"   \"P. mendrina\" \"P. lobata\"   \"M. capitata\" \"P. lobata\"  \n",
       "[161] \"P. lobata\"   \"P. lobata\"   \"P. lobata\"   \"P. lobata\"   \"P. mendrina\"\n",
       "[166] \"P. lobata\"   \"P. lobata\"   \"P. mendrina\" \"P. lobata\"   \"P. lobata\"  \n",
       "[171] \"P. lobata\"   \"P. lobata\"   \"P. lobata\"   \"P. lobata\"   \"P. lobata\"  \n",
       "[176] \"P. mendrina\" \"P. mendrina\" \"P. mendrina\" \"P. lobata\"   \"P. lobata\"  \n",
       "[181] \"M. capitata\" \"M. capitata\" \"M. capitata\" \"P. mendrina\" \"P. mendrina\"\n",
       "[186] \"M. capitata\" \"P. lobata\"   \"P. mendrina\" \"P. mendrina\" \"P. mendrina\"\n",
       "[191] \"P. mendrina\" \"P. mendrina\" \"P. mendrina\" \"P. lobata\"   \"P. lobata\"  \n",
       "[196] \"P. lobata\"   \"P. lobata\"   \"P. lobata\"   \"M. capitata\" \"P. lobata\"  "
      ]
     },
     "metadata": {},
     "output_type": "display_data"
    }
   ],
   "source": [
    "sample(c('P. lobata', 'M. capitata', 'P. mendrina'), 200, replace=TRUE, prob=c(0.60, 0.19, 0.21))"
   ]
  },
  {
   "cell_type": "code",
   "execution_count": 164,
   "id": "8b5c0cda",
   "metadata": {},
   "outputs": [
    {
     "data": {
      "text/html": [
       "<table class=\"dataframe\">\n",
       "<caption>A matrix: 3 × 1 of type int</caption>\n",
       "<tbody>\n",
       "\t<tr><td>123</td></tr>\n",
       "\t<tr><td> 38</td></tr>\n",
       "\t<tr><td> 39</td></tr>\n",
       "</tbody>\n",
       "</table>\n"
      ],
      "text/latex": [
       "A matrix: 3 × 1 of type int\n",
       "\\begin{tabular}{l}\n",
       "\t 123\\\\\n",
       "\t  38\\\\\n",
       "\t  39\\\\\n",
       "\\end{tabular}\n"
      ],
      "text/markdown": [
       "\n",
       "A matrix: 3 × 1 of type int\n",
       "\n",
       "| 123 |\n",
       "|  38 |\n",
       "|  39 |\n",
       "\n"
      ],
      "text/plain": [
       "     [,1]\n",
       "[1,] 123 \n",
       "[2,]  38 \n",
       "[3,]  39 "
      ]
     },
     "metadata": {},
     "output_type": "display_data"
    }
   ],
   "source": [
    "rmultinom(1, 200, prob=c(0.60, 0.19, 0.21))"
   ]
  },
  {
   "cell_type": "code",
   "execution_count": 165,
   "id": "65c77d50",
   "metadata": {},
   "outputs": [
    {
     "data": {
      "text/html": [
       "<table class=\"dataframe\">\n",
       "<caption>A matrix: 3 × 1 of type dbl</caption>\n",
       "<tbody>\n",
       "\t<tr><td>0.645</td></tr>\n",
       "\t<tr><td>0.140</td></tr>\n",
       "\t<tr><td>0.215</td></tr>\n",
       "</tbody>\n",
       "</table>\n"
      ],
      "text/latex": [
       "A matrix: 3 × 1 of type dbl\n",
       "\\begin{tabular}{l}\n",
       "\t 0.645\\\\\n",
       "\t 0.140\\\\\n",
       "\t 0.215\\\\\n",
       "\\end{tabular}\n"
      ],
      "text/markdown": [
       "\n",
       "A matrix: 3 × 1 of type dbl\n",
       "\n",
       "| 0.645 |\n",
       "| 0.140 |\n",
       "| 0.215 |\n",
       "\n"
      ],
      "text/plain": [
       "     [,1] \n",
       "[1,] 0.645\n",
       "[2,] 0.140\n",
       "[3,] 0.215"
      ]
     },
     "metadata": {},
     "output_type": "display_data"
    }
   ],
   "source": [
    "rmultinom(1, 200, prob=c(0.60, 0.19, 0.21))/200"
   ]
  },
  {
   "cell_type": "code",
   "execution_count": 166,
   "id": "b1108288",
   "metadata": {},
   "outputs": [
    {
     "data": {
      "text/html": [
       "0.04"
      ],
      "text/latex": [
       "0.04"
      ],
      "text/markdown": [
       "0.04"
      ],
      "text/plain": [
       "[1] 0.04"
      ]
     },
     "metadata": {},
     "output_type": "display_data"
    }
   ],
   "source": [
    "sampleOneIteration = function(){\n",
    "    true_proportions = c(0.60, 0.19, 0.21)\n",
    "    sample_proportions = rmultinom(1, 200, prob=c(0.60, 0.19, 0.21))/200\n",
    "    sample_tvd = sum(abs(true_proportions- sample_proportions))/2\n",
    "    sample_tvd\n",
    "        \n",
    "}\n",
    "sampleOneIteration()"
   ]
  },
  {
   "cell_type": "code",
   "execution_count": 167,
   "id": "46c5b683",
   "metadata": {},
   "outputs": [],
   "source": [
    "tvds = replicate(1000, sampleOneIteration())"
   ]
  },
  {
   "cell_type": "code",
   "execution_count": 169,
   "id": "e4917aab",
   "metadata": {},
   "outputs": [
    {
     "data": {
      "text/html": [
       "0.01"
      ],
      "text/latex": [
       "0.01"
      ],
      "text/markdown": [
       "0.01"
      ],
      "text/plain": [
       "[1] 0.01"
      ]
     },
     "metadata": {},
     "output_type": "display_data"
    }
   ],
   "source": [
    "observed_stat = sum(tapply(coral_proportions$ratios, coral_proportions$coraltype, subtract_abs))/2\n",
    "observed_stat"
   ]
  },
  {
   "cell_type": "code",
   "execution_count": 170,
   "id": "f682bb74",
   "metadata": {},
   "outputs": [
    {
     "data": {
      "image/png": "[encoded data removed]",
      "text/plain": [
       "plot without title"
      ]
     },
     "metadata": {
      "image/png": {
       "height": 420,
       "width": 420
      }
     },
     "output_type": "display_data"
    }
   ],
   "source": [
    "ggplot()+ \n",
    "  geom_histogram(aes(tvds, ..density..), bins = 15) +\n",
    "  geom_point(aes(observed_stat, 0), size=5, color=\"red\")"
   ]
  },
  {
   "cell_type": "code",
   "execution_count": 171,
   "id": "4bd22ed0",
   "metadata": {},
   "outputs": [
    {
     "data": {
      "text/html": [
       "0.955"
      ],
      "text/latex": [
       "0.955"
      ],
      "text/markdown": [
       "0.955"
      ],
      "text/plain": [
       "[1] 0.955"
      ]
     },
     "metadata": {},
     "output_type": "display_data"
    }
   ],
   "source": [
    "p_value = sum(tvds > observed_stat)  / length(tvds)\n",
    "p_value"
   ]
  },
  {
   "cell_type": "markdown",
   "id": "1b109803",
   "metadata": {},
   "source": [
    "We are accepting the null hypothesis that there is no significant difference in these 2 samples. The p-value of 0.955 is greater than 0.05 so it shows that the 2 samples are very similar. "
   ]
  }
 ],
 "metadata": {
  "kernelspec": {
   "display_name": "R",
   "language": "R",
   "name": "ir"
  },
  "language_info": {
   "codemirror_mode": "r",
   "file_extension": ".r",
   "mimetype": "text/x-r-source",
   "name": "R",
   "pygments_lexer": "r",
   "version": "4.1.3"
  }
 },
 "nbformat": 4,
 "nbformat_minor": 5
}
