{
 "cells": [
  {
   "cell_type": "markdown",
   "metadata": {
    "id": "3U7i3eYcoOU4"
   },
   "source": [
    "**Question 1**\n",
    "\n",
    "* Provide at least two methods to view the number of of rows and the number of columns in the `mpg` dataset\n"
   ]
  },
  {
   "cell_type": "code",
   "execution_count": 3,
   "metadata": {
    "colab": {
     "base_uri": "https://localhost:8080/",
     "height": 69
    },
    "id": "uzPA_bc2oagr",
    "outputId": "1ed2879c-c6fa-469e-aef7-f9d8d1b305ce",
    "scrolled": true
   },
   "outputs": [
    {
     "data": {
      "text/html": [
       "234"
      ],
      "text/latex": [
       "234"
      ],
      "text/markdown": [
       "234"
      ],
      "text/plain": [
       "[1] 234"
      ]
     },
     "metadata": {},
     "output_type": "display_data"
    },
    {
     "data": {
      "text/html": [
       "11"
      ],
      "text/latex": [
       "11"
      ],
      "text/markdown": [
       "11"
      ],
      "text/plain": [
       "[1] 11"
      ]
     },
     "metadata": {},
     "output_type": "display_data"
    },
    {
     "data": {
      "text/html": [
       "<style>\n",
       ".list-inline {list-style: none; margin:0; padding: 0}\n",
       ".list-inline>li {display: inline-block}\n",
       ".list-inline>li:not(:last-child)::after {content: \"\\00b7\"; padding: 0 .5ex}\n",
       "</style>\n",
       "<ol class=list-inline><li>234</li><li>11</li></ol>\n"
      ],
      "text/latex": [
       "\\begin{enumerate*}\n",
       "\\item 234\n",
       "\\item 11\n",
       "\\end{enumerate*}\n"
      ],
      "text/markdown": [
       "1. 234\n",
       "2. 11\n",
       "\n",
       "\n"
      ],
      "text/plain": [
       "[1] 234  11"
      ]
     },
     "metadata": {},
     "output_type": "display_data"
    }
   ],
   "source": [
    "library(tidyverse)\n",
    "# Method 1: count rows and columns separately\n",
    "nrow(mpg)\n",
    "ncol(mpg)\n",
    "\n",
    "# Method 2: counts rows and columns at the same time\n",
    "dim(mpg)"
   ]
  },
  {
   "cell_type": "markdown",
   "metadata": {
    "id": "8xpQqLlvyi2X"
   },
   "source": [
    "**Question 2**\n",
    "\n",
    "* Run the following code:\n",
    "```R\n",
    "ggplot(data = mpg) + \n",
    "  geom_point(mapping = aes(x = displ, y = hwy, color = \"blue\"))\n",
    "```\n",
    "* What is wrong with the code. \n",
    "* Fix it so that the plot is displayed correctly."
   ]
  },
  {
   "cell_type": "code",
   "execution_count": 4,
   "metadata": {
    "colab": {
     "base_uri": "https://localhost:8080/",
     "height": 437
    },
    "id": "ZfwUBsDfzm0X",
    "outputId": "fffb0418-677c-4104-b968-a1e1d3f9aa6c"
   },
   "outputs": [
    {
     "data": {
      "image/png": "[encoded data removed]",
      "text/plain": [
       "plot without title"
      ]
     },
     "metadata": {
      "image/png": {
       "height": 420,
       "width": 420
      }
     },
     "output_type": "display_data"
    }
   ],
   "source": [
    "# The parenthesis was in the wrong place. If 'color' was inside the aes(), then it would need to be associated with a variable.\n",
    "# Since 'color' is a stylistic addition, it needs to go outside of the parenthesis.\n",
    "ggplot(data = mpg) + \n",
    "  geom_point(mapping = aes(x = displ, y = hwy), color = \"blue\")"
   ]
  },
  {
   "cell_type": "markdown",
   "metadata": {
    "id": "urMg2YztmJNI"
   },
   "source": [
    "**Question 3**\n",
    "\n",
    "* Change the code below so that mpg$class_numeric will be of type integer (int) rather than double (dbl)\n",
    "```R\n",
    "mpg$class_numeric = sapply(mpg$class, convert_class_int, USE.NAMES = FALSE)\n",
    "```\n",
    "* Inspect the result to make sure your solution worked"
   ]
  },
  {
   "cell_type": "code",
   "execution_count": 75,
   "metadata": {
    "colab": {
     "base_uri": "https://localhost:8080/"
    },
    "id": "lcT-7suVmJpM",
    "outputId": "a8386b73-1fc9-4b73-ac47-c34acd9f551d"
   },
   "outputs": [
    {
     "data": {
      "text/html": [
       "'integer'"
      ],
      "text/latex": [
       "'integer'"
      ],
      "text/markdown": [
       "'integer'"
      ],
      "text/plain": [
       "[1] \"integer\""
      ]
     },
     "metadata": {},
     "output_type": "display_data"
    }
   ],
   "source": [
    "mpg$class_numeric = sapply(mpg$class, as.factor, USE.NAMES = FALSE)\n",
    "typeof(mpg$class_numeric)"
   ]
  },
  {
   "cell_type": "markdown",
   "metadata": {
    "id": "HYhPLiBNotuM"
   },
   "source": [
    "**Question 4** \n",
    "\n",
    "* Use a scatter plot to plot the variable `cty` (`x`-axis) and `hwy` (`y`-axis) of the `mpg` dataset\n",
    "* Add another geom that shows the liner regression between `x` and `y`\n",
    "  * The method for computing linear regression should be a linear model `lm` instead of the default (`loess`)\n",
    "  * Set the line color to `red`\n",
    "  * color the points by `class` \n",
    "  * set the points size to 6"
   ]
  },
  {
   "cell_type": "code",
   "execution_count": 5,
   "metadata": {
    "colab": {
     "base_uri": "https://localhost:8080/",
     "height": 474
    },
    "id": "JcE11tx0pFVD",
    "outputId": "828a9434-e779-47f0-b8a7-fb2497045be3"
   },
   "outputs": [
    {
     "name": "stderr",
     "output_type": "stream",
     "text": [
      "`geom_smooth()` using formula 'y ~ x'\n",
      "\n"
     ]
    },
    {
     "data": {
      "image/png": "[encoded data removed]",
      "text/plain": [
       "plot without title"
      ]
     },
     "metadata": {
      "image/png": {
       "height": 420,
       "width": 420
      }
     },
     "output_type": "display_data"
    }
   ],
   "source": [
    "ggplot(data = mpg) + \n",
    "  geom_point(mapping = aes(x = cty, y = hwy, color=class),size=6) +\n",
    "geom_smooth(mapping=aes(x=cty, y=hwy), color='red', method=\"lm\")"
   ]
  },
  {
   "cell_type": "markdown",
   "metadata": {
    "id": "6Ylfz9w1pXu1"
   },
   "source": [
    "**Question 5** \n",
    "\n",
    "* You noticed in the previous plot that there exist in the dataset subcompacts that has a city fuel consumption of 15 miles per gallon.\n",
    "* Extract the manufacturer and model of these subcompacts\n",
    "  * results should only have these columns"
   ]
  },
  {
   "cell_type": "code",
   "execution_count": 48,
   "metadata": {
    "colab": {
     "base_uri": "https://localhost:8080/",
     "height": 255
    },
    "id": "9zENV78oroLC",
    "outputId": "ddc0059b-faf7-4733-ce96-6cffeac044ee"
   },
   "outputs": [
    {
     "data": {
      "text/html": [
       "<table class=\"dataframe\">\n",
       "<caption>A tibble: 4 × 2</caption>\n",
       "<thead>\n",
       "\t<tr><th scope=col>manufacturer</th><th scope=col>model</th></tr>\n",
       "\t<tr><th scope=col>&lt;chr&gt;</th><th scope=col>&lt;chr&gt;</th></tr>\n",
       "</thead>\n",
       "<tbody>\n",
       "\t<tr><td>ford</td><td>mustang</td></tr>\n",
       "\t<tr><td>ford</td><td>mustang</td></tr>\n",
       "\t<tr><td>ford</td><td>mustang</td></tr>\n",
       "\t<tr><td>ford</td><td>mustang</td></tr>\n",
       "</tbody>\n",
       "</table>\n"
      ],
      "text/latex": [
       "A tibble: 4 × 2\n",
       "\\begin{tabular}{ll}\n",
       " manufacturer & model\\\\\n",
       " <chr> & <chr>\\\\\n",
       "\\hline\n",
       "\t ford & mustang\\\\\n",
       "\t ford & mustang\\\\\n",
       "\t ford & mustang\\\\\n",
       "\t ford & mustang\\\\\n",
       "\\end{tabular}\n"
      ],
      "text/markdown": [
       "\n",
       "A tibble: 4 × 2\n",
       "\n",
       "| manufacturer &lt;chr&gt; | model &lt;chr&gt; |\n",
       "|---|---|\n",
       "| ford | mustang |\n",
       "| ford | mustang |\n",
       "| ford | mustang |\n",
       "| ford | mustang |\n",
       "\n"
      ],
      "text/plain": [
       "  manufacturer model  \n",
       "1 ford         mustang\n",
       "2 ford         mustang\n",
       "3 ford         mustang\n",
       "4 ford         mustang"
      ]
     },
     "metadata": {},
     "output_type": "display_data"
    }
   ],
   "source": [
    "subcompact <- subset(mpg, class=='subcompact' & cty==15, select=c(manufacturer, model))\n",
    "subcompact"
   ]
  },
  {
   "cell_type": "markdown",
   "metadata": {
    "id": "cabxcvjOryiB"
   },
   "source": [
    "**Question 6**\n",
    "\n",
    "* The following generates a warning\n",
    "```R\n",
    "ggplot(data = mpg) + \n",
    "  geom_point(mapping = aes(x = displ, y = hwy, shape = class))\n",
    "```\n",
    "\n",
    "* How can you fix that the code so all classes are displayed\n",
    "* Hint: you can manually specify your own values for the shapes to use using `scale_shape_manual` geom.  You can select any of the [following shapes](https://ggplot2.tidyverse.org/articles/ggplot2-specs_files/figure-html/unnamed-chunk-7-1.png)"
   ]
  },
  {
   "cell_type": "code",
   "execution_count": 50,
   "metadata": {
    "colab": {
     "base_uri": "https://localhost:8080/",
     "height": 437
    },
    "id": "jpAZlmBKt04R",
    "outputId": "de84a514-acd9-4682-f68a-6695893670c1"
   },
   "outputs": [
    {
     "data": {
      "image/png": "[encoded data removed]",
      "text/plain": [
       "plot without title"
      ]
     },
     "metadata": {
      "image/png": {
       "height": 420,
       "width": 420
      }
     },
     "output_type": "display_data"
    }
   ],
   "source": [
    "ggplot(data = mpg) + \n",
    "geom_point(mapping = aes(x = displ, y = hwy, shape = class)) +\n",
    "scale_shape_manual(values=c(1:7))"
   ]
  },
  {
   "cell_type": "markdown",
   "metadata": {
    "id": "Be9pMmP41ih4"
   },
   "source": [
    "**Question 7**\n",
    "\n",
    "* Given the following two vectors\n",
    "\n",
    "```R\n",
    "x <- c(3.385,0.48,1.35,465,36.33,27.66,14.83,1.04,4.19,0.425,0.101,0.92,1,0.005,0.06,3.5,2,1.7,2547,0.023,187.1,521,0.785,10,3.3,0.2,1.41,529,207,85,0.75,62,6654,3.5,6.8,35,4.05,0.12,0.023,0.01,1.4,250,2.5,55.5,100,52.16,10.55,0.55,60,3.6,4.288,0.28,0.075,0.122,0.048,192,3,160,0.9,1.62,0.104,4.235)\n",
    "y <- c(44.5,15.5,8.1,423,119.5,115,98.2,5.5,58,6.4,4,5.7,6.6,0.14,1,10.8,12.3,6.3,4603,0.3,419,655,3.5,115,25.6,5,17.5,680,406,325,12.3,1320,5712,3.9,179,56,17,1,0.4,0.25,12.5,490,12.1,175,157,440,179.5,2.4,81,21,39.2,1.9,1.2,3,0.33,180,25,169,2.6,11.4,2.5,50.4)\n",
    "```\n",
    "* Combine the two vectors into a data frame called `sizeMass`\n",
    "  * Name the columns containing the vectors `x` and `y` as `size` and `mass` respectively \n",
    "\n",
    "* Use the code below to plot the data\n",
    "  * If you followed the above instructions the code should work without modification\n",
    "\n",
    "```R\n",
    "ggplot(sizeMass, aes(size, mass)) +\n",
    "  geom_point() +\n",
    "  geom_smooth(method = \"lm\", color = \"red\", se = FALSE)\n",
    "\n",
    "```  \n"
   ]
  },
  {
   "cell_type": "code",
   "execution_count": 50,
   "metadata": {
    "colab": {
     "base_uri": "https://localhost:8080/",
     "height": 474
    },
    "id": "a8SmKZt54L1x",
    "outputId": "3f6294f6-48fb-480d-f5ea-a89404f0f1fd"
   },
   "outputs": [
    {
     "data": {
      "text/html": [
       "<table class=\"dataframe\">\n",
       "<caption>A data.frame: 62 × 2</caption>\n",
       "<thead>\n",
       "\t<tr><th scope=col>size</th><th scope=col>mass</th></tr>\n",
       "\t<tr><th scope=col>&lt;dbl&gt;</th><th scope=col>&lt;dbl&gt;</th></tr>\n",
       "</thead>\n",
       "<tbody>\n",
       "\t<tr><td>   3.385</td><td>  44.50</td></tr>\n",
       "\t<tr><td>   0.480</td><td>  15.50</td></tr>\n",
       "\t<tr><td>   1.350</td><td>   8.10</td></tr>\n",
       "\t<tr><td> 465.000</td><td> 423.00</td></tr>\n",
       "\t<tr><td>  36.330</td><td> 119.50</td></tr>\n",
       "\t<tr><td>  27.660</td><td> 115.00</td></tr>\n",
       "\t<tr><td>  14.830</td><td>  98.20</td></tr>\n",
       "\t<tr><td>   1.040</td><td>   5.50</td></tr>\n",
       "\t<tr><td>   4.190</td><td>  58.00</td></tr>\n",
       "\t<tr><td>   0.425</td><td>   6.40</td></tr>\n",
       "\t<tr><td>   0.101</td><td>   4.00</td></tr>\n",
       "\t<tr><td>   0.920</td><td>   5.70</td></tr>\n",
       "\t<tr><td>   1.000</td><td>   6.60</td></tr>\n",
       "\t<tr><td>   0.005</td><td>   0.14</td></tr>\n",
       "\t<tr><td>   0.060</td><td>   1.00</td></tr>\n",
       "\t<tr><td>   3.500</td><td>  10.80</td></tr>\n",
       "\t<tr><td>   2.000</td><td>  12.30</td></tr>\n",
       "\t<tr><td>   1.700</td><td>   6.30</td></tr>\n",
       "\t<tr><td>2547.000</td><td>4603.00</td></tr>\n",
       "\t<tr><td>   0.023</td><td>   0.30</td></tr>\n",
       "\t<tr><td> 187.100</td><td> 419.00</td></tr>\n",
       "\t<tr><td> 521.000</td><td> 655.00</td></tr>\n",
       "\t<tr><td>   0.785</td><td>   3.50</td></tr>\n",
       "\t<tr><td>  10.000</td><td> 115.00</td></tr>\n",
       "\t<tr><td>   3.300</td><td>  25.60</td></tr>\n",
       "\t<tr><td>   0.200</td><td>   5.00</td></tr>\n",
       "\t<tr><td>   1.410</td><td>  17.50</td></tr>\n",
       "\t<tr><td> 529.000</td><td> 680.00</td></tr>\n",
       "\t<tr><td> 207.000</td><td> 406.00</td></tr>\n",
       "\t<tr><td>  85.000</td><td> 325.00</td></tr>\n",
       "\t<tr><td>...</td><td>...</td></tr>\n",
       "\t<tr><td>6654.000</td><td>5712.00</td></tr>\n",
       "\t<tr><td>   3.500</td><td>   3.90</td></tr>\n",
       "\t<tr><td>   6.800</td><td> 179.00</td></tr>\n",
       "\t<tr><td>  35.000</td><td>  56.00</td></tr>\n",
       "\t<tr><td>   4.050</td><td>  17.00</td></tr>\n",
       "\t<tr><td>   0.120</td><td>   1.00</td></tr>\n",
       "\t<tr><td>   0.023</td><td>   0.40</td></tr>\n",
       "\t<tr><td>   0.010</td><td>   0.25</td></tr>\n",
       "\t<tr><td>   1.400</td><td>  12.50</td></tr>\n",
       "\t<tr><td> 250.000</td><td> 490.00</td></tr>\n",
       "\t<tr><td>   2.500</td><td>  12.10</td></tr>\n",
       "\t<tr><td>  55.500</td><td> 175.00</td></tr>\n",
       "\t<tr><td> 100.000</td><td> 157.00</td></tr>\n",
       "\t<tr><td>  52.160</td><td> 440.00</td></tr>\n",
       "\t<tr><td>  10.550</td><td> 179.50</td></tr>\n",
       "\t<tr><td>   0.550</td><td>   2.40</td></tr>\n",
       "\t<tr><td>  60.000</td><td>  81.00</td></tr>\n",
       "\t<tr><td>   3.600</td><td>  21.00</td></tr>\n",
       "\t<tr><td>   4.288</td><td>  39.20</td></tr>\n",
       "\t<tr><td>   0.280</td><td>   1.90</td></tr>\n",
       "\t<tr><td>   0.075</td><td>   1.20</td></tr>\n",
       "\t<tr><td>   0.122</td><td>   3.00</td></tr>\n",
       "\t<tr><td>   0.048</td><td>   0.33</td></tr>\n",
       "\t<tr><td> 192.000</td><td> 180.00</td></tr>\n",
       "\t<tr><td>   3.000</td><td>  25.00</td></tr>\n",
       "\t<tr><td> 160.000</td><td> 169.00</td></tr>\n",
       "\t<tr><td>   0.900</td><td>   2.60</td></tr>\n",
       "\t<tr><td>   1.620</td><td>  11.40</td></tr>\n",
       "\t<tr><td>   0.104</td><td>   2.50</td></tr>\n",
       "\t<tr><td>   4.235</td><td>  50.40</td></tr>\n",
       "</tbody>\n",
       "</table>\n"
      ],
      "text/latex": [
       "A data.frame: 62 × 2\n",
       "\\begin{tabular}{ll}\n",
       " size & mass\\\\\n",
       " <dbl> & <dbl>\\\\\n",
       "\\hline\n",
       "\t    3.385 &   44.50\\\\\n",
       "\t    0.480 &   15.50\\\\\n",
       "\t    1.350 &    8.10\\\\\n",
       "\t  465.000 &  423.00\\\\\n",
       "\t   36.330 &  119.50\\\\\n",
       "\t   27.660 &  115.00\\\\\n",
       "\t   14.830 &   98.20\\\\\n",
       "\t    1.040 &    5.50\\\\\n",
       "\t    4.190 &   58.00\\\\\n",
       "\t    0.425 &    6.40\\\\\n",
       "\t    0.101 &    4.00\\\\\n",
       "\t    0.920 &    5.70\\\\\n",
       "\t    1.000 &    6.60\\\\\n",
       "\t    0.005 &    0.14\\\\\n",
       "\t    0.060 &    1.00\\\\\n",
       "\t    3.500 &   10.80\\\\\n",
       "\t    2.000 &   12.30\\\\\n",
       "\t    1.700 &    6.30\\\\\n",
       "\t 2547.000 & 4603.00\\\\\n",
       "\t    0.023 &    0.30\\\\\n",
       "\t  187.100 &  419.00\\\\\n",
       "\t  521.000 &  655.00\\\\\n",
       "\t    0.785 &    3.50\\\\\n",
       "\t   10.000 &  115.00\\\\\n",
       "\t    3.300 &   25.60\\\\\n",
       "\t    0.200 &    5.00\\\\\n",
       "\t    1.410 &   17.50\\\\\n",
       "\t  529.000 &  680.00\\\\\n",
       "\t  207.000 &  406.00\\\\\n",
       "\t   85.000 &  325.00\\\\\n",
       "\t ... & ...\\\\\n",
       "\t 6654.000 & 5712.00\\\\\n",
       "\t    3.500 &    3.90\\\\\n",
       "\t    6.800 &  179.00\\\\\n",
       "\t   35.000 &   56.00\\\\\n",
       "\t    4.050 &   17.00\\\\\n",
       "\t    0.120 &    1.00\\\\\n",
       "\t    0.023 &    0.40\\\\\n",
       "\t    0.010 &    0.25\\\\\n",
       "\t    1.400 &   12.50\\\\\n",
       "\t  250.000 &  490.00\\\\\n",
       "\t    2.500 &   12.10\\\\\n",
       "\t   55.500 &  175.00\\\\\n",
       "\t  100.000 &  157.00\\\\\n",
       "\t   52.160 &  440.00\\\\\n",
       "\t   10.550 &  179.50\\\\\n",
       "\t    0.550 &    2.40\\\\\n",
       "\t   60.000 &   81.00\\\\\n",
       "\t    3.600 &   21.00\\\\\n",
       "\t    4.288 &   39.20\\\\\n",
       "\t    0.280 &    1.90\\\\\n",
       "\t    0.075 &    1.20\\\\\n",
       "\t    0.122 &    3.00\\\\\n",
       "\t    0.048 &    0.33\\\\\n",
       "\t  192.000 &  180.00\\\\\n",
       "\t    3.000 &   25.00\\\\\n",
       "\t  160.000 &  169.00\\\\\n",
       "\t    0.900 &    2.60\\\\\n",
       "\t    1.620 &   11.40\\\\\n",
       "\t    0.104 &    2.50\\\\\n",
       "\t    4.235 &   50.40\\\\\n",
       "\\end{tabular}\n"
      ],
      "text/markdown": [
       "\n",
       "A data.frame: 62 × 2\n",
       "\n",
       "| size &lt;dbl&gt; | mass &lt;dbl&gt; |\n",
       "|---|---|\n",
       "|    3.385 |   44.50 |\n",
       "|    0.480 |   15.50 |\n",
       "|    1.350 |    8.10 |\n",
       "|  465.000 |  423.00 |\n",
       "|   36.330 |  119.50 |\n",
       "|   27.660 |  115.00 |\n",
       "|   14.830 |   98.20 |\n",
       "|    1.040 |    5.50 |\n",
       "|    4.190 |   58.00 |\n",
       "|    0.425 |    6.40 |\n",
       "|    0.101 |    4.00 |\n",
       "|    0.920 |    5.70 |\n",
       "|    1.000 |    6.60 |\n",
       "|    0.005 |    0.14 |\n",
       "|    0.060 |    1.00 |\n",
       "|    3.500 |   10.80 |\n",
       "|    2.000 |   12.30 |\n",
       "|    1.700 |    6.30 |\n",
       "| 2547.000 | 4603.00 |\n",
       "|    0.023 |    0.30 |\n",
       "|  187.100 |  419.00 |\n",
       "|  521.000 |  655.00 |\n",
       "|    0.785 |    3.50 |\n",
       "|   10.000 |  115.00 |\n",
       "|    3.300 |   25.60 |\n",
       "|    0.200 |    5.00 |\n",
       "|    1.410 |   17.50 |\n",
       "|  529.000 |  680.00 |\n",
       "|  207.000 |  406.00 |\n",
       "|   85.000 |  325.00 |\n",
       "| ... | ... |\n",
       "| 6654.000 | 5712.00 |\n",
       "|    3.500 |    3.90 |\n",
       "|    6.800 |  179.00 |\n",
       "|   35.000 |   56.00 |\n",
       "|    4.050 |   17.00 |\n",
       "|    0.120 |    1.00 |\n",
       "|    0.023 |    0.40 |\n",
       "|    0.010 |    0.25 |\n",
       "|    1.400 |   12.50 |\n",
       "|  250.000 |  490.00 |\n",
       "|    2.500 |   12.10 |\n",
       "|   55.500 |  175.00 |\n",
       "|  100.000 |  157.00 |\n",
       "|   52.160 |  440.00 |\n",
       "|   10.550 |  179.50 |\n",
       "|    0.550 |    2.40 |\n",
       "|   60.000 |   81.00 |\n",
       "|    3.600 |   21.00 |\n",
       "|    4.288 |   39.20 |\n",
       "|    0.280 |    1.90 |\n",
       "|    0.075 |    1.20 |\n",
       "|    0.122 |    3.00 |\n",
       "|    0.048 |    0.33 |\n",
       "|  192.000 |  180.00 |\n",
       "|    3.000 |   25.00 |\n",
       "|  160.000 |  169.00 |\n",
       "|    0.900 |    2.60 |\n",
       "|    1.620 |   11.40 |\n",
       "|    0.104 |    2.50 |\n",
       "|    4.235 |   50.40 |\n",
       "\n"
      ],
      "text/plain": [
       "    size     mass   \n",
       "1      3.385   44.50\n",
       "2      0.480   15.50\n",
       "3      1.350    8.10\n",
       "4    465.000  423.00\n",
       "5     36.330  119.50\n",
       "6     27.660  115.00\n",
       "7     14.830   98.20\n",
       "8      1.040    5.50\n",
       "9      4.190   58.00\n",
       "10     0.425    6.40\n",
       "11     0.101    4.00\n",
       "12     0.920    5.70\n",
       "13     1.000    6.60\n",
       "14     0.005    0.14\n",
       "15     0.060    1.00\n",
       "16     3.500   10.80\n",
       "17     2.000   12.30\n",
       "18     1.700    6.30\n",
       "19  2547.000 4603.00\n",
       "20     0.023    0.30\n",
       "21   187.100  419.00\n",
       "22   521.000  655.00\n",
       "23     0.785    3.50\n",
       "24    10.000  115.00\n",
       "25     3.300   25.60\n",
       "26     0.200    5.00\n",
       "27     1.410   17.50\n",
       "28   529.000  680.00\n",
       "29   207.000  406.00\n",
       "30    85.000  325.00\n",
       "... ...      ...    \n",
       "33  6654.000 5712.00\n",
       "34     3.500    3.90\n",
       "35     6.800  179.00\n",
       "36    35.000   56.00\n",
       "37     4.050   17.00\n",
       "38     0.120    1.00\n",
       "39     0.023    0.40\n",
       "40     0.010    0.25\n",
       "41     1.400   12.50\n",
       "42   250.000  490.00\n",
       "43     2.500   12.10\n",
       "44    55.500  175.00\n",
       "45   100.000  157.00\n",
       "46    52.160  440.00\n",
       "47    10.550  179.50\n",
       "48     0.550    2.40\n",
       "49    60.000   81.00\n",
       "50     3.600   21.00\n",
       "51     4.288   39.20\n",
       "52     0.280    1.90\n",
       "53     0.075    1.20\n",
       "54     0.122    3.00\n",
       "55     0.048    0.33\n",
       "56   192.000  180.00\n",
       "57     3.000   25.00\n",
       "58   160.000  169.00\n",
       "59     0.900    2.60\n",
       "60     1.620   11.40\n",
       "61     0.104    2.50\n",
       "62     4.235   50.40"
      ]
     },
     "metadata": {},
     "output_type": "display_data"
    },
    {
     "name": "stderr",
     "output_type": "stream",
     "text": [
      "`geom_smooth()` using formula 'y ~ x'\n",
      "\n"
     ]
    },
    {
     "data": {
      "image/png": "[encoded data removed]",
      "text/plain": [
       "plot without title"
      ]
     },
     "metadata": {
      "image/png": {
       "height": 420,
       "width": 420
      }
     },
     "output_type": "display_data"
    }
   ],
   "source": [
    "size <- c(3.385,0.48,1.35,465,36.33,27.66,14.83,1.04,4.19,0.425,0.101,0.92,1,0.005,0.06,3.5,2,1.7,2547,0.023,187.1,\n",
    "                 521,0.785,10,3.3,0.2,1.41,529,207,85,0.75,62,6654,3.5,6.8,35,4.05,0.12,0.023,0.01,1.4,250,2.5,55.5,100,\n",
    "                 52.16,10.55,0.55,60,3.6,4.288,0.28,0.075,0.122,0.048,192,3,160,0.9,1.62,0.104,4.235)\n",
    "mass <- c(44.5,15.5,8.1,423,119.5,115,98.2,5.5,58,6.4,4,5.7,6.6,0.14,1,10.8,12.3,6.3,4603,0.3,419,655,3.5,115,25.6,5,17.5,\n",
    "       680,406,325,12.3,1320,5712,3.9,179,56,17,1,0.4,0.25,12.5,490,12.1,175,157,440,179.5,2.4,81,21,39.2,1.9,1.2,3,0.33,\n",
    "       180,25,169,2.6,11.4,2.5,50.4)\n",
    "sizeMass<- data.frame(size,mass)\n",
    "sizeMass\n",
    "ggplot(sizeMass, aes(size, mass)) +\n",
    "  geom_point() +\n",
    "  geom_smooth(method = \"lm\", color = \"red\", se = FALSE)"
   ]
  },
  {
   "cell_type": "markdown",
   "metadata": {
    "id": "eZMMckVz4gZa"
   },
   "source": [
    "**Question 8** \n",
    "\n",
    "* In the above, the data is \"squashed\" because the data range varies substantially across observations. One way to fix this is by computing the log of the data. We will do that using two different approaches\n",
    "\n",
    "1. add two new columns called them `size_log10` and `mass_log` that represent the log 10 values of the `size` and `mass` columns. Then, reuse the plotting code above by replacing `size` and `mass` with `size_log10` and `mass_log10` respectively\n",
    "  * Hint `log10()` can take as input a single value or a vector\n",
    "\n",
    "2. Use the `scale_x_log10()` and `scale_y_log10()` to set different scales for the `x` and `y` aesthetics\n",
    "  * Simply add these transforms to the initial snippet of code prior to plotting `geom_point` or `geom_smooth`"
   ]
  },
  {
   "cell_type": "code",
   "execution_count": 78,
   "metadata": {
    "colab": {
     "base_uri": "https://localhost:8080/",
     "height": 414
    },
    "id": "-TEqSRPO5oFC",
    "outputId": "d5859450-be15-4c5e-9721-840a4f953702"
   },
   "outputs": [
    {
     "name": "stderr",
     "output_type": "stream",
     "text": [
      "`geom_smooth()` using formula 'y ~ x'\n",
      "\n",
      "`geom_smooth()` using formula 'y ~ x'\n",
      "\n"
     ]
    },
    {
     "data": {
      "image/png": "[encoded data removed]",
      "text/plain": [
       "plot without title"
      ]
     },
     "metadata": {
      "image/png": {
       "height": 420,
       "width": 420
      }
     },
     "output_type": "display_data"
    },
    {
     "data": {
      "image/png": "[encoded data removed]",
      "text/plain": [
       "plot without title"
      ]
     },
     "metadata": {
      "image/png": {
       "height": 420,
       "width": 420
      }
     },
     "output_type": "display_data"
    }
   ],
   "source": [
    "size_log10<- log10(size)\n",
    "mass_log<- log(mass)\n",
    "sizeMass<- data.frame(size,mass,size_log10,mass_log)\n",
    "ggplot(sizeMass, aes(size_log10, mass_log)) +\n",
    "  geom_point() +\n",
    "  geom_smooth(method = \"lm\", color = \"red\", se = FALSE)\n",
    "\n",
    "sizeMass<- data.frame(size,mass)\n",
    "ggplot(sizeMass, aes(size, mass)) +\n",
    "    scale_x_log10() + \n",
    "    scale_y_log10() +\n",
    "    geom_point() +\n",
    "    geom_smooth(method = \"lm\", color = \"red\", se = FALSE)"
   ]
  }
 ],
 "metadata": {
  "colab": {
   "collapsed_sections": [
    "TyQb7VZiLVew",
    "jTuSNzgvML1p",
    "LLXi2YevS_SL",
    "PQd55qyJW3w3",
    "IFcaA1lJWiSD",
    "X0tu1wmr9RrW",
    "pFqdJYoSYgg9",
    "lb33xguQb8Oy",
    "5Q-EXdPQkH78",
    "sOmfzErKnreX",
    "gu18MgwA7ql8",
    "-ojtBSIJHtX4"
   ],
   "name": "Untitled6.ipynb",
   "provenance": [],
   "toc_visible": true
  },
  "kernelspec": {
   "display_name": "R",
   "language": "R",
   "name": "ir"
  },
  "language_info": {
   "codemirror_mode": "r",
   "file_extension": ".r",
   "mimetype": "text/x-r-source",
   "name": "R",
   "pygments_lexer": "r",
   "version": "4.1.3"
  }
 },
 "nbformat": 4,
 "nbformat_minor": 1
}
